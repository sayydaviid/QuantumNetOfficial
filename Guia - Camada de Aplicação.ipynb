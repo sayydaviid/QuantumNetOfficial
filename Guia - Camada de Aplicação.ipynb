{
 "cells": [
  {
   "cell_type": "markdown",
   "metadata": {},
   "source": [
    "\n",
    "\n",
    "# Guia da Camada de Aplicação\n",
    "### IMPORTANDO AS DEPENDÊNCIAS\n",
    "##### O documento tem o objetivo de demostrar o funcionamento da camada de aplicação, além de suas funções e ferramentas."
   ]
  },
  {
   "cell_type": "code",
   "execution_count": 1,
   "metadata": {},
   "outputs": [],
   "source": [
    "from quantumnet.components import Network, Host\n",
    "from quantumnet.objects import Qubit, Logger"
   ]
  },
  {
   "cell_type": "markdown",
   "metadata": {},
   "source": [
    "##### Instanciando a rede, e setando a topologia."
   ]
  },
  {
   "cell_type": "code",
   "execution_count": 2,
   "metadata": {},
   "outputs": [
    {
     "name": "stdout",
     "output_type": "stream",
     "text": [
      "Hosts inicializados\n",
      "Canais inicializados\n",
      "Pares EPRs adicionados\n"
     ]
    },
    {
     "data": {
      "image/png": "[encoded data removed]",
      "text/plain": [
       "<Figure size 640x480 with 1 Axes>"
      ]
     },
     "metadata": {},
     "output_type": "display_data"
    }
   ],
   "source": [
    "rede = Network()\n",
    "rede.set_ready_topology(\"Grade\", 3,3)\n",
    "rede.draw()\n",
    "Logger.activate(Logger)"
   ]
  },
  {
   "cell_type": "markdown",
   "metadata": {},
   "source": [
    "##### Definindo os hosts alice e bob nos nós 1 e 2 respectivamente."
   ]
  },
  {
   "cell_type": "code",
   "execution_count": 3,
   "metadata": {},
   "outputs": [],
   "source": [
    "alice = rede.get_host(3)\n",
    "bob = rede.get_host(8)\n"
   ]
  },
  {
   "cell_type": "markdown",
   "metadata": {},
   "source": [
    "##### Por meio da chamada da função qks_e91_protocol, passando os argumentos do ID de Alice, ID de Bob e o número de chaves que é pedido nessa requisição. Houve a transmissão das chaves. "
   ]
  },
  {
   "cell_type": "code",
   "execution_count": 4,
   "metadata": {},
   "outputs": [
    {
     "name": "stderr",
     "output_type": "stream",
     "text": [
      "2024-09-17 00:44:43,908: Iniciando protocolo E91 com 10 qubits.\n",
      "2024-09-17 00:44:43,912: Timeslot incrementado na função prepare_e91_qubits: 1\n",
      "2024-09-17 00:44:43,914: Qubits preparados com a chave: [1, 1, 0, 0, 0, 1, 0, 0, 1, 1] e bases: [1, 0, 1, 1, 0, 0, 0, 0, 1, 1]\n",
      "2024-09-17 00:44:43,915: Timeslot incrementado na função apply_bases_and_measure_e91: 2\n",
      "2024-09-17 00:44:43,917: Resultados das medições: [1, 1, 0, 1, 0, 0, 1, 0, 1, 0] com bases: [0, 0, 1, 0, 0, 1, 1, 0, 0, 1]\n",
      "2024-09-17 00:44:43,918: Índices comuns: [1, 2, 4, 7, 9]\n",
      "2024-09-17 00:44:43,920: Transmitindo 4 qubits coincidentes de Alice (ID 3) para Bob (ID 8).\n",
      "2024-09-17 00:44:43,921: Erro: Alice tem 10 qubits, mas deveria ter 4 qubits. Abortando transmissão.\n",
      "2024-09-17 00:44:43,922: Falha na transmissão dos qubits coincidentes.\n"
     ]
    }
   ],
   "source": [
    "rede.application_layer.run_app(\"QKD_E91\",3,8,5)"
   ]
  },
  {
   "cell_type": "markdown",
   "metadata": {},
   "source": [
    "##### A função get_timeslot apresenta quantos timeslot se passaram durante a execução da camada."
   ]
  },
  {
   "cell_type": "code",
   "execution_count": 5,
   "metadata": {},
   "outputs": [
    {
     "data": {
      "text/plain": [
       "2"
      ]
     },
     "execution_count": 5,
     "metadata": {},
     "output_type": "execute_result"
    }
   ],
   "source": [
    "rede.get_timeslot()"
   ]
  },
  {
   "cell_type": "markdown",
   "metadata": {},
   "source": [
    "##### A função get_total_useds_qubits, será usada para mostrar quantos qubits foram usados na camada de Aplicação."
   ]
  },
  {
   "cell_type": "code",
   "execution_count": 6,
   "metadata": {},
   "outputs": [
    {
     "name": "stderr",
     "output_type": "stream",
     "text": [
      "2024-09-17 00:44:43,952: Qubits usados na camada PhysicalLayer: 0\n",
      "2024-09-17 00:44:43,955: Qubits usados na camada LinkLayer: 0\n",
      "2024-09-17 00:44:43,957: Qubits usados na camada TransportLayer: 0\n",
      "2024-09-17 00:44:43,958: Qubits usados na camada ApplicationLayer: 10\n"
     ]
    },
    {
     "data": {
      "text/plain": [
       "10"
      ]
     },
     "execution_count": 6,
     "metadata": {},
     "output_type": "execute_result"
    }
   ],
   "source": [
    "rede.get_total_useds_qubits()"
   ]
  },
  {
   "cell_type": "markdown",
   "metadata": {},
   "source": [
    "##### No avg_fidelity_on_ltransportlayer, é realizada o cálculo da média da fidelidade dos ERPs criados na camada de Aplicação."
   ]
  },
  {
   "cell_type": "code",
   "execution_count": 7,
   "metadata": {},
   "outputs": [
    {
     "name": "stdout",
     "output_type": "stream",
     "text": [
      "Qubit 0 foi criado no timeslot 0\n",
      "Qubit 1 foi criado no timeslot 0\n",
      "Qubit 2 foi criado no timeslot 0\n",
      "Qubit 3 foi criado no timeslot 0\n",
      "Qubit 4 foi criado no timeslot 0\n",
      "Qubit 5 foi criado no timeslot 0\n",
      "Qubit 6 foi criado no timeslot 0\n",
      "Qubit 7 foi criado no timeslot 0\n",
      "Qubit 8 foi criado no timeslot 0\n",
      "Qubit 9 foi criado no timeslot 0\n",
      "Qubit 10 foi criado no timeslot 0\n",
      "Qubit 11 foi criado no timeslot 0\n",
      "Qubit 12 foi criado no timeslot 0\n",
      "Qubit 13 foi criado no timeslot 0\n",
      "Qubit 14 foi criado no timeslot 0\n",
      "Qubit 15 foi criado no timeslot 0\n",
      "Qubit 16 foi criado no timeslot 0\n",
      "Qubit 17 foi criado no timeslot 0\n",
      "Qubit 18 foi criado no timeslot 0\n",
      "Qubit 19 foi criado no timeslot 0\n",
      "Qubit 20 foi criado no timeslot 0\n",
      "Qubit 21 foi criado no timeslot 0\n",
      "Qubit 22 foi criado no timeslot 0\n",
      "Qubit 23 foi criado no timeslot 0\n",
      "Qubit 24 foi criado no timeslot 0\n",
      "Qubit 25 foi criado no timeslot 0\n",
      "Qubit 26 foi criado no timeslot 0\n",
      "Qubit 27 foi criado no timeslot 0\n",
      "Qubit 28 foi criado no timeslot 0\n",
      "Qubit 29 foi criado no timeslot 0\n",
      "Qubit 30 foi criado no timeslot 0\n",
      "Qubit 31 foi criado no timeslot 0\n",
      "Qubit 32 foi criado no timeslot 0\n",
      "Qubit 33 foi criado no timeslot 0\n",
      "Qubit 34 foi criado no timeslot 0\n",
      "Qubit 35 foi criado no timeslot 0\n",
      "Qubit 36 foi criado no timeslot 0\n",
      "Qubit 37 foi criado no timeslot 0\n",
      "Qubit 38 foi criado no timeslot 0\n",
      "Qubit 39 foi criado no timeslot 0\n",
      "Qubit 40 foi criado no timeslot 0\n",
      "Qubit 41 foi criado no timeslot 0\n",
      "Qubit 42 foi criado no timeslot 0\n",
      "Qubit 43 foi criado no timeslot 0\n",
      "Qubit 44 foi criado no timeslot 0\n",
      "Qubit 45 foi criado no timeslot 0\n",
      "Qubit 46 foi criado no timeslot 0\n",
      "Qubit 47 foi criado no timeslot 0\n",
      "Qubit 48 foi criado no timeslot 0\n",
      "Qubit 49 foi criado no timeslot 0\n",
      "Qubit 50 foi criado no timeslot 0\n",
      "Qubit 51 foi criado no timeslot 0\n",
      "Qubit 52 foi criado no timeslot 0\n",
      "Qubit 53 foi criado no timeslot 0\n",
      "Qubit 54 foi criado no timeslot 0\n",
      "Qubit 55 foi criado no timeslot 0\n",
      "Qubit 56 foi criado no timeslot 0\n",
      "Qubit 57 foi criado no timeslot 0\n",
      "Qubit 58 foi criado no timeslot 0\n",
      "Qubit 59 foi criado no timeslot 0\n",
      "Qubit 60 foi criado no timeslot 0\n",
      "Qubit 61 foi criado no timeslot 0\n",
      "Qubit 62 foi criado no timeslot 0\n",
      "Qubit 63 foi criado no timeslot 0\n",
      "Qubit 64 foi criado no timeslot 0\n",
      "Qubit 65 foi criado no timeslot 0\n",
      "Qubit 66 foi criado no timeslot 0\n",
      "Qubit 67 foi criado no timeslot 0\n",
      "Qubit 68 foi criado no timeslot 0\n",
      "Qubit 69 foi criado no timeslot 0\n",
      "Qubit 70 foi criado no timeslot 0\n",
      "Qubit 71 foi criado no timeslot 0\n",
      "Qubit 72 foi criado no timeslot 0\n",
      "Qubit 73 foi criado no timeslot 0\n",
      "Qubit 74 foi criado no timeslot 0\n",
      "Qubit 75 foi criado no timeslot 0\n",
      "Qubit 76 foi criado no timeslot 0\n",
      "Qubit 77 foi criado no timeslot 0\n",
      "Qubit 78 foi criado no timeslot 0\n",
      "Qubit 79 foi criado no timeslot 0\n",
      "Qubit 80 foi criado no timeslot 0\n",
      "Qubit 81 foi criado no timeslot 0\n",
      "Qubit 82 foi criado no timeslot 0\n",
      "Qubit 83 foi criado no timeslot 0\n",
      "Qubit 84 foi criado no timeslot 0\n",
      "Qubit 85 foi criado no timeslot 0\n",
      "Qubit 86 foi criado no timeslot 0\n",
      "Qubit 87 foi criado no timeslot 0\n",
      "Qubit 88 foi criado no timeslot 0\n",
      "Qubit 89 foi criado no timeslot 0\n"
     ]
    }
   ],
   "source": [
    "rede.display_all_qubit_timeslots()"
   ]
  }
 ],
 "metadata": {
  "kernelspec": {
   "display_name": "Python 3",
   "language": "python",
   "name": "python3"
  },
  "language_info": {
   "codemirror_mode": {
    "name": "ipython",
    "version": 3
   },
   "file_extension": ".py",
   "mimetype": "text/x-python",
   "name": "python",
   "nbconvert_exporter": "python",
   "pygments_lexer": "ipython3",
   "version": "3.11.4"
  }
 },
 "nbformat": 4,
 "nbformat_minor": 2
}
