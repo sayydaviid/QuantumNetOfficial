{
 "cells": [
  {
   "cell_type": "markdown",
   "metadata": {},
   "source": [
    "## Guia da Camada Física\n",
    "##### O documento tem o objetivo de demostrar o funcionamento da camada física, além de suas funções e ferramentas."
   ]
  },
  {
   "cell_type": "code",
   "execution_count": 1,
   "metadata": {},
   "outputs": [],
   "source": [
    "from quantumnet.components import Network, Host\n",
    "from quantumnet.objects import Qubit, Logger\n",
    "import random\n",
    "Logger.activate(Logger)"
   ]
  },
  {
   "cell_type": "markdown",
   "metadata": {},
   "source": [
    "##### Será instaciada a rede e definida a topologia de Grade"
   ]
  },
  {
   "cell_type": "code",
   "execution_count": 2,
   "metadata": {},
   "outputs": [
    {
     "name": "stderr",
     "output_type": "stream",
     "text": [
      "2024-09-13 01:31:09,304: Qubit 0 adicionado à memória do Host 0.\n",
      "2024-09-13 01:31:09,305: Qubit 0 criado com fidelidade inicial 0.8119747186526008 e adicionado à memória do Host 0.\n",
      "2024-09-13 01:31:09,305: Qubit 1 adicionado à memória do Host 0.\n",
      "2024-09-13 01:31:09,307: Qubit 1 criado com fidelidade inicial 0.8258235299213998 e adicionado à memória do Host 0.\n",
      "2024-09-13 01:31:09,307: Qubit 2 adicionado à memória do Host 0.\n",
      "2024-09-13 01:31:09,307: Qubit 2 criado com fidelidade inicial 0.016445756922888632 e adicionado à memória do Host 0.\n",
      "2024-09-13 01:31:09,308: Qubit 3 adicionado à memória do Host 0.\n",
      "2024-09-13 01:31:09,308: Qubit 3 criado com fidelidade inicial 0.6186664981087197 e adicionado à memória do Host 0.\n",
      "2024-09-13 01:31:09,308: Qubit 4 adicionado à memória do Host 0.\n",
      "2024-09-13 01:31:09,308: Qubit 4 criado com fidelidade inicial 0.3418491057529546 e adicionado à memória do Host 0.\n",
      "2024-09-13 01:31:09,308: Qubit 5 adicionado à memória do Host 0.\n",
      "2024-09-13 01:31:09,310: Qubit 5 criado com fidelidade inicial 0.8846049382218646 e adicionado à memória do Host 0.\n",
      "2024-09-13 01:31:09,310: Qubit 6 adicionado à memória do Host 0.\n",
      "2024-09-13 01:31:09,310: Qubit 6 criado com fidelidade inicial 0.708373640913957 e adicionado à memória do Host 0.\n",
      "2024-09-13 01:31:09,310: Qubit 7 adicionado à memória do Host 0.\n",
      "2024-09-13 01:31:09,310: Qubit 7 criado com fidelidade inicial 0.16827584688305042 e adicionado à memória do Host 0.\n",
      "2024-09-13 01:31:09,310: Qubit 8 adicionado à memória do Host 0.\n",
      "2024-09-13 01:31:09,312: Qubit 8 criado com fidelidade inicial 0.19035244110441274 e adicionado à memória do Host 0.\n",
      "2024-09-13 01:31:09,312: Qubit 9 adicionado à memória do Host 0.\n",
      "2024-09-13 01:31:09,313: Qubit 9 criado com fidelidade inicial 0.4208621664767934 e adicionado à memória do Host 0.\n",
      "2024-09-13 01:31:09,313: Qubit 10 adicionado à memória do Host 1.\n",
      "2024-09-13 01:31:09,313: Qubit 10 criado com fidelidade inicial 0.5794353004143317 e adicionado à memória do Host 1.\n",
      "2024-09-13 01:31:09,314: Qubit 11 adicionado à memória do Host 1.\n",
      "2024-09-13 01:31:09,314: Qubit 11 criado com fidelidade inicial 0.8498883352172381 e adicionado à memória do Host 1.\n",
      "2024-09-13 01:31:09,314: Qubit 12 adicionado à memória do Host 1.\n",
      "2024-09-13 01:31:09,315: Qubit 12 criado com fidelidade inicial 0.9353314136161526 e adicionado à memória do Host 1.\n",
      "2024-09-13 01:31:09,315: Qubit 13 adicionado à memória do Host 1.\n",
      "2024-09-13 01:31:09,315: Qubit 13 criado com fidelidade inicial 0.29117185141970536 e adicionado à memória do Host 1.\n",
      "2024-09-13 01:31:09,315: Qubit 14 adicionado à memória do Host 1.\n",
      "2024-09-13 01:31:09,316: Qubit 14 criado com fidelidade inicial 0.6735003138527668 e adicionado à memória do Host 1.\n",
      "2024-09-13 01:31:09,316: Qubit 15 adicionado à memória do Host 1.\n",
      "2024-09-13 01:31:09,316: Qubit 15 criado com fidelidade inicial 0.6090936624327036 e adicionado à memória do Host 1.\n",
      "2024-09-13 01:31:09,316: Qubit 16 adicionado à memória do Host 1.\n",
      "2024-09-13 01:31:09,317: Qubit 16 criado com fidelidade inicial 0.5869729297126068 e adicionado à memória do Host 1.\n",
      "2024-09-13 01:31:09,317: Qubit 17 adicionado à memória do Host 1.\n",
      "2024-09-13 01:31:09,317: Qubit 17 criado com fidelidade inicial 0.6947845098194388 e adicionado à memória do Host 1.\n",
      "2024-09-13 01:31:09,318: Qubit 18 adicionado à memória do Host 1.\n",
      "2024-09-13 01:31:09,318: Qubit 18 criado com fidelidade inicial 0.5611650315418532 e adicionado à memória do Host 1.\n",
      "2024-09-13 01:31:09,318: Qubit 19 adicionado à memória do Host 1.\n",
      "2024-09-13 01:31:09,318: Qubit 19 criado com fidelidade inicial 0.04189627182589262 e adicionado à memória do Host 1.\n",
      "2024-09-13 01:31:09,318: Qubit 20 adicionado à memória do Host 2.\n",
      "2024-09-13 01:31:09,319: Qubit 20 criado com fidelidade inicial 0.5430117016597302 e adicionado à memória do Host 2.\n",
      "2024-09-13 01:31:09,319: Qubit 21 adicionado à memória do Host 2.\n",
      "2024-09-13 01:31:09,319: Qubit 21 criado com fidelidade inicial 0.7617965754467152 e adicionado à memória do Host 2.\n",
      "2024-09-13 01:31:09,319: Qubit 22 adicionado à memória do Host 2.\n",
      "2024-09-13 01:31:09,320: Qubit 22 criado com fidelidade inicial 0.34143293033231614 e adicionado à memória do Host 2.\n",
      "2024-09-13 01:31:09,320: Qubit 23 adicionado à memória do Host 2.\n",
      "2024-09-13 01:31:09,320: Qubit 23 criado com fidelidade inicial 0.36660194810978763 e adicionado à memória do Host 2.\n",
      "2024-09-13 01:31:09,321: Qubit 24 adicionado à memória do Host 2.\n",
      "2024-09-13 01:31:09,321: Qubit 24 criado com fidelidade inicial 0.11692186625993295 e adicionado à memória do Host 2.\n",
      "2024-09-13 01:31:09,321: Qubit 25 adicionado à memória do Host 2.\n",
      "2024-09-13 01:31:09,321: Qubit 25 criado com fidelidade inicial 0.3288962540843169 e adicionado à memória do Host 2.\n",
      "2024-09-13 01:31:09,322: Qubit 26 adicionado à memória do Host 2.\n",
      "2024-09-13 01:31:09,322: Qubit 26 criado com fidelidade inicial 0.6126526331986022 e adicionado à memória do Host 2.\n",
      "2024-09-13 01:31:09,322: Qubit 27 adicionado à memória do Host 2.\n",
      "2024-09-13 01:31:09,324: Qubit 27 criado com fidelidade inicial 0.30029121157681027 e adicionado à memória do Host 2.\n",
      "2024-09-13 01:31:09,324: Qubit 28 adicionado à memória do Host 2.\n",
      "2024-09-13 01:31:09,324: Qubit 28 criado com fidelidade inicial 0.2727437284501725 e adicionado à memória do Host 2.\n",
      "2024-09-13 01:31:09,325: Qubit 29 adicionado à memória do Host 2.\n",
      "2024-09-13 01:31:09,325: Qubit 29 criado com fidelidade inicial 0.991265213984321 e adicionado à memória do Host 2.\n",
      "2024-09-13 01:31:09,326: Qubit 30 adicionado à memória do Host 3.\n",
      "2024-09-13 01:31:09,326: Qubit 30 criado com fidelidade inicial 0.5740512613866107 e adicionado à memória do Host 3.\n",
      "2024-09-13 01:31:09,326: Qubit 31 adicionado à memória do Host 3.\n",
      "2024-09-13 01:31:09,327: Qubit 31 criado com fidelidade inicial 0.6045093276850433 e adicionado à memória do Host 3.\n",
      "2024-09-13 01:31:09,327: Qubit 32 adicionado à memória do Host 3.\n",
      "2024-09-13 01:31:09,328: Qubit 32 criado com fidelidade inicial 0.9033708666931535 e adicionado à memória do Host 3.\n",
      "2024-09-13 01:31:09,328: Qubit 33 adicionado à memória do Host 3.\n",
      "2024-09-13 01:31:09,328: Qubit 33 criado com fidelidade inicial 0.24611872518255873 e adicionado à memória do Host 3.\n",
      "2024-09-13 01:31:09,329: Qubit 34 adicionado à memória do Host 3.\n",
      "2024-09-13 01:31:09,329: Qubit 34 criado com fidelidade inicial 0.04891095088150965 e adicionado à memória do Host 3.\n",
      "2024-09-13 01:31:09,329: Qubit 35 adicionado à memória do Host 3.\n",
      "2024-09-13 01:31:09,330: Qubit 35 criado com fidelidade inicial 0.5614201991387022 e adicionado à memória do Host 3.\n",
      "2024-09-13 01:31:09,330: Qubit 36 adicionado à memória do Host 3.\n",
      "2024-09-13 01:31:09,330: Qubit 36 criado com fidelidade inicial 0.6293271310089077 e adicionado à memória do Host 3.\n",
      "2024-09-13 01:31:09,330: Qubit 37 adicionado à memória do Host 3.\n",
      "2024-09-13 01:31:09,332: Qubit 37 criado com fidelidade inicial 0.3877944323123037 e adicionado à memória do Host 3.\n",
      "2024-09-13 01:31:09,332: Qubit 38 adicionado à memória do Host 3.\n",
      "2024-09-13 01:31:09,332: Qubit 38 criado com fidelidade inicial 0.8204420742645822 e adicionado à memória do Host 3.\n",
      "2024-09-13 01:31:09,333: Qubit 39 adicionado à memória do Host 3.\n",
      "2024-09-13 01:31:09,333: Qubit 39 criado com fidelidade inicial 0.3263952267235186 e adicionado à memória do Host 3.\n",
      "2024-09-13 01:31:09,333: Qubit 40 adicionado à memória do Host 4.\n",
      "2024-09-13 01:31:09,333: Qubit 40 criado com fidelidade inicial 0.6229526083798186 e adicionado à memória do Host 4.\n",
      "2024-09-13 01:31:09,334: Qubit 41 adicionado à memória do Host 4.\n",
      "2024-09-13 01:31:09,334: Qubit 41 criado com fidelidade inicial 0.6577895173640492 e adicionado à memória do Host 4.\n",
      "2024-09-13 01:31:09,334: Qubit 42 adicionado à memória do Host 4.\n",
      "2024-09-13 01:31:09,334: Qubit 42 criado com fidelidade inicial 0.007945334449627861 e adicionado à memória do Host 4.\n",
      "2024-09-13 01:31:09,334: Qubit 43 adicionado à memória do Host 4.\n",
      "2024-09-13 01:31:09,335: Qubit 43 criado com fidelidade inicial 0.48468228798261404 e adicionado à memória do Host 4.\n",
      "2024-09-13 01:31:09,336: Qubit 44 adicionado à memória do Host 4.\n",
      "2024-09-13 01:31:09,336: Qubit 44 criado com fidelidade inicial 0.38579893150688227 e adicionado à memória do Host 4.\n",
      "2024-09-13 01:31:09,336: Qubit 45 adicionado à memória do Host 4.\n",
      "2024-09-13 01:31:09,337: Qubit 45 criado com fidelidade inicial 0.29201996070115244 e adicionado à memória do Host 4.\n",
      "2024-09-13 01:31:09,337: Qubit 46 adicionado à memória do Host 4.\n",
      "2024-09-13 01:31:09,337: Qubit 46 criado com fidelidade inicial 0.17808402261278755 e adicionado à memória do Host 4.\n",
      "2024-09-13 01:31:09,338: Qubit 47 adicionado à memória do Host 4.\n",
      "2024-09-13 01:31:09,338: Qubit 47 criado com fidelidade inicial 0.26567064031396737 e adicionado à memória do Host 4.\n",
      "2024-09-13 01:31:09,338: Qubit 48 adicionado à memória do Host 4.\n",
      "2024-09-13 01:31:09,339: Qubit 48 criado com fidelidade inicial 0.9806484248094318 e adicionado à memória do Host 4.\n",
      "2024-09-13 01:31:09,339: Qubit 49 adicionado à memória do Host 4.\n",
      "2024-09-13 01:31:09,339: Qubit 49 criado com fidelidade inicial 0.19453997644781118 e adicionado à memória do Host 4.\n",
      "2024-09-13 01:31:09,339: Qubit 50 adicionado à memória do Host 5.\n",
      "2024-09-13 01:31:09,340: Qubit 50 criado com fidelidade inicial 0.7406033704644283 e adicionado à memória do Host 5.\n",
      "2024-09-13 01:31:09,340: Qubit 51 adicionado à memória do Host 5.\n",
      "2024-09-13 01:31:09,340: Qubit 51 criado com fidelidade inicial 0.01643460494785931 e adicionado à memória do Host 5.\n",
      "2024-09-13 01:31:09,340: Qubit 52 adicionado à memória do Host 5.\n",
      "2024-09-13 01:31:09,340: Qubit 52 criado com fidelidade inicial 0.2516258976431679 e adicionado à memória do Host 5.\n",
      "2024-09-13 01:31:09,340: Qubit 53 adicionado à memória do Host 5.\n",
      "2024-09-13 01:31:09,342: Qubit 53 criado com fidelidade inicial 0.028346652650650395 e adicionado à memória do Host 5.\n",
      "2024-09-13 01:31:09,342: Qubit 54 adicionado à memória do Host 5.\n",
      "2024-09-13 01:31:09,342: Qubit 54 criado com fidelidade inicial 0.29864529707153586 e adicionado à memória do Host 5.\n",
      "2024-09-13 01:31:09,343: Qubit 55 adicionado à memória do Host 5.\n",
      "2024-09-13 01:31:09,343: Qubit 55 criado com fidelidade inicial 0.34214367681708924 e adicionado à memória do Host 5.\n",
      "2024-09-13 01:31:09,343: Qubit 56 adicionado à memória do Host 5.\n",
      "2024-09-13 01:31:09,344: Qubit 56 criado com fidelidade inicial 0.8395220939213259 e adicionado à memória do Host 5.\n",
      "2024-09-13 01:31:09,344: Qubit 57 adicionado à memória do Host 5.\n",
      "2024-09-13 01:31:09,344: Qubit 57 criado com fidelidade inicial 0.16096518865315323 e adicionado à memória do Host 5.\n",
      "2024-09-13 01:31:09,345: Qubit 58 adicionado à memória do Host 5.\n",
      "2024-09-13 01:31:09,345: Qubit 58 criado com fidelidade inicial 0.5807796992283075 e adicionado à memória do Host 5.\n",
      "2024-09-13 01:31:09,346: Qubit 59 adicionado à memória do Host 5.\n",
      "2024-09-13 01:31:09,346: Qubit 59 criado com fidelidade inicial 0.11450472442518955 e adicionado à memória do Host 5.\n",
      "2024-09-13 01:31:09,346: Qubit 60 adicionado à memória do Host 6.\n",
      "2024-09-13 01:31:09,347: Qubit 60 criado com fidelidade inicial 0.542707332000283 e adicionado à memória do Host 6.\n",
      "2024-09-13 01:31:09,348: Qubit 61 adicionado à memória do Host 6.\n",
      "2024-09-13 01:31:09,348: Qubit 61 criado com fidelidade inicial 0.0717643589967154 e adicionado à memória do Host 6.\n",
      "2024-09-13 01:31:09,349: Qubit 62 adicionado à memória do Host 6.\n",
      "2024-09-13 01:31:09,350: Qubit 62 criado com fidelidade inicial 0.14707818748236368 e adicionado à memória do Host 6.\n",
      "2024-09-13 01:31:09,350: Qubit 63 adicionado à memória do Host 6.\n",
      "2024-09-13 01:31:09,351: Qubit 63 criado com fidelidade inicial 0.11136147202042612 e adicionado à memória do Host 6.\n",
      "2024-09-13 01:31:09,351: Qubit 64 adicionado à memória do Host 6.\n",
      "2024-09-13 01:31:09,352: Qubit 64 criado com fidelidade inicial 0.38720389446646786 e adicionado à memória do Host 6.\n",
      "2024-09-13 01:31:09,353: Qubit 65 adicionado à memória do Host 6.\n",
      "2024-09-13 01:31:09,355: Qubit 65 criado com fidelidade inicial 0.4457666860560707 e adicionado à memória do Host 6.\n",
      "2024-09-13 01:31:09,356: Qubit 66 adicionado à memória do Host 6.\n",
      "2024-09-13 01:31:09,356: Qubit 66 criado com fidelidade inicial 0.4851037076814897 e adicionado à memória do Host 6.\n",
      "2024-09-13 01:31:09,357: Qubit 67 adicionado à memória do Host 6.\n",
      "2024-09-13 01:31:09,357: Qubit 67 criado com fidelidade inicial 0.9228187947417922 e adicionado à memória do Host 6.\n",
      "2024-09-13 01:31:09,358: Qubit 68 adicionado à memória do Host 6.\n",
      "2024-09-13 01:31:09,358: Qubit 68 criado com fidelidade inicial 0.569637562814258 e adicionado à memória do Host 6.\n",
      "2024-09-13 01:31:09,359: Qubit 69 adicionado à memória do Host 6.\n",
      "2024-09-13 01:31:09,359: Qubit 69 criado com fidelidade inicial 0.9113212308434416 e adicionado à memória do Host 6.\n",
      "2024-09-13 01:31:09,360: Qubit 70 adicionado à memória do Host 7.\n",
      "2024-09-13 01:31:09,361: Qubit 70 criado com fidelidade inicial 0.7981369056260333 e adicionado à memória do Host 7.\n",
      "2024-09-13 01:31:09,362: Qubit 71 adicionado à memória do Host 7.\n",
      "2024-09-13 01:31:09,363: Qubit 71 criado com fidelidade inicial 0.3353081546081521 e adicionado à memória do Host 7.\n",
      "2024-09-13 01:31:09,364: Qubit 72 adicionado à memória do Host 7.\n",
      "2024-09-13 01:31:09,364: Qubit 72 criado com fidelidade inicial 0.5603907589998918 e adicionado à memória do Host 7.\n",
      "2024-09-13 01:31:09,364: Qubit 73 adicionado à memória do Host 7.\n",
      "2024-09-13 01:31:09,366: Qubit 73 criado com fidelidade inicial 0.030970285458833846 e adicionado à memória do Host 7.\n",
      "2024-09-13 01:31:09,370: Qubit 74 adicionado à memória do Host 7.\n",
      "2024-09-13 01:31:09,371: Qubit 74 criado com fidelidade inicial 0.5759056416032721 e adicionado à memória do Host 7.\n",
      "2024-09-13 01:31:09,376: Qubit 75 adicionado à memória do Host 7.\n",
      "2024-09-13 01:31:09,377: Qubit 75 criado com fidelidade inicial 0.8812272608693125 e adicionado à memória do Host 7.\n",
      "2024-09-13 01:31:09,378: Qubit 76 adicionado à memória do Host 7.\n",
      "2024-09-13 01:31:09,379: Qubit 76 criado com fidelidade inicial 0.672330664289524 e adicionado à memória do Host 7.\n",
      "2024-09-13 01:31:09,379: Qubit 77 adicionado à memória do Host 7.\n",
      "2024-09-13 01:31:09,379: Qubit 77 criado com fidelidade inicial 0.7568027787447501 e adicionado à memória do Host 7.\n",
      "2024-09-13 01:31:09,382: Qubit 78 adicionado à memória do Host 7.\n",
      "2024-09-13 01:31:09,384: Qubit 78 criado com fidelidade inicial 0.3441308848852709 e adicionado à memória do Host 7.\n",
      "2024-09-13 01:31:09,384: Qubit 79 adicionado à memória do Host 7.\n",
      "2024-09-13 01:31:09,384: Qubit 79 criado com fidelidade inicial 0.31138424840974277 e adicionado à memória do Host 7.\n",
      "2024-09-13 01:31:09,386: Qubit 80 adicionado à memória do Host 8.\n",
      "2024-09-13 01:31:09,386: Qubit 80 criado com fidelidade inicial 0.8929676603392769 e adicionado à memória do Host 8.\n",
      "2024-09-13 01:31:09,387: Qubit 81 adicionado à memória do Host 8.\n",
      "2024-09-13 01:31:09,387: Qubit 81 criado com fidelidade inicial 0.7510227993040777 e adicionado à memória do Host 8.\n",
      "2024-09-13 01:31:09,388: Qubit 82 adicionado à memória do Host 8.\n",
      "2024-09-13 01:31:09,389: Qubit 82 criado com fidelidade inicial 0.9409160064717471 e adicionado à memória do Host 8.\n",
      "2024-09-13 01:31:09,389: Qubit 83 adicionado à memória do Host 8.\n",
      "2024-09-13 01:31:09,390: Qubit 83 criado com fidelidade inicial 0.708375705641013 e adicionado à memória do Host 8.\n",
      "2024-09-13 01:31:09,390: Qubit 84 adicionado à memória do Host 8.\n",
      "2024-09-13 01:31:09,391: Qubit 84 criado com fidelidade inicial 0.29772853303883906 e adicionado à memória do Host 8.\n",
      "2024-09-13 01:31:09,391: Qubit 85 adicionado à memória do Host 8.\n",
      "2024-09-13 01:31:09,392: Qubit 85 criado com fidelidade inicial 0.8921541954887082 e adicionado à memória do Host 8.\n",
      "2024-09-13 01:31:09,392: Qubit 86 adicionado à memória do Host 8.\n",
      "2024-09-13 01:31:09,393: Qubit 86 criado com fidelidade inicial 0.09024706208765654 e adicionado à memória do Host 8.\n",
      "2024-09-13 01:31:09,396: Qubit 87 adicionado à memória do Host 8.\n",
      "2024-09-13 01:31:09,397: Qubit 87 criado com fidelidade inicial 0.8589760302385833 e adicionado à memória do Host 8.\n",
      "2024-09-13 01:31:09,398: Qubit 88 adicionado à memória do Host 8.\n",
      "2024-09-13 01:31:09,398: Qubit 88 criado com fidelidade inicial 0.46393002918941406 e adicionado à memória do Host 8.\n",
      "2024-09-13 01:31:09,398: Qubit 89 adicionado à memória do Host 8.\n",
      "2024-09-13 01:31:09,398: Qubit 89 criado com fidelidade inicial 0.8634172640693896 e adicionado à memória do Host 8.\n",
      "2024-09-13 01:31:09,400: Par EPR <quantumnet.objects.epr.Epr object at 0x00000131D14DEBD0> adicionado ao canal.\n",
      "2024-09-13 01:31:09,400: Par EPR <quantumnet.objects.epr.Epr object at 0x00000131D14B6450> adicionado ao canal.\n",
      "2024-09-13 01:31:09,400: Par EPR <quantumnet.objects.epr.Epr object at 0x00000131D14B7200> adicionado ao canal.\n",
      "2024-09-13 01:31:09,401: Par EPR <quantumnet.objects.epr.Epr object at 0x00000131D14B71A0> adicionado ao canal.\n",
      "2024-09-13 01:31:09,401: Par EPR <quantumnet.objects.epr.Epr object at 0x00000131D0F4F2C0> adicionado ao canal.\n",
      "2024-09-13 01:31:09,402: Par EPR <quantumnet.objects.epr.Epr object at 0x00000131D14B73B0> adicionado ao canal.\n",
      "2024-09-13 01:31:09,402: Par EPR <quantumnet.objects.epr.Epr object at 0x00000131D14B71D0> adicionado ao canal.\n",
      "2024-09-13 01:31:09,402: Par EPR <quantumnet.objects.epr.Epr object at 0x00000131D14B7260> adicionado ao canal.\n",
      "2024-09-13 01:31:09,403: Par EPR <quantumnet.objects.epr.Epr object at 0x00000131D14B7380> adicionado ao canal.\n",
      "2024-09-13 01:31:09,403: Par EPR <quantumnet.objects.epr.Epr object at 0x00000131D14B7470> adicionado ao canal.\n",
      "2024-09-13 01:31:09,403: Par EPR <quantumnet.objects.epr.Epr object at 0x00000131D13BF710> adicionado ao canal.\n",
      "2024-09-13 01:31:09,404: Par EPR <quantumnet.objects.epr.Epr object at 0x00000131D14B74D0> adicionado ao canal.\n",
      "2024-09-13 01:31:09,404: Par EPR <quantumnet.objects.epr.Epr object at 0x00000131D14B7560> adicionado ao canal.\n",
      "2024-09-13 01:31:09,405: Par EPR <quantumnet.objects.epr.Epr object at 0x00000131D14B7650> adicionado ao canal.\n",
      "2024-09-13 01:31:09,405: Par EPR <quantumnet.objects.epr.Epr object at 0x00000131D14B7800> adicionado ao canal.\n",
      "2024-09-13 01:31:09,405: Par EPR <quantumnet.objects.epr.Epr object at 0x00000131D14B77A0> adicionado ao canal.\n",
      "2024-09-13 01:31:09,405: Par EPR <quantumnet.objects.epr.Epr object at 0x00000131D14B7950> adicionado ao canal.\n",
      "2024-09-13 01:31:09,406: Par EPR <quantumnet.objects.epr.Epr object at 0x00000131D14B7830> adicionado ao canal.\n",
      "2024-09-13 01:31:09,406: Par EPR <quantumnet.objects.epr.Epr object at 0x00000131D14B7AA0> adicionado ao canal.\n",
      "2024-09-13 01:31:09,406: Par EPR <quantumnet.objects.epr.Epr object at 0x00000131D14B7A10> adicionado ao canal.\n",
      "2024-09-13 01:31:09,407: Par EPR <quantumnet.objects.epr.Epr object at 0x00000131D14DF140> adicionado ao canal.\n",
      "2024-09-13 01:31:09,407: Par EPR <quantumnet.objects.epr.Epr object at 0x00000131D14B7770> adicionado ao canal.\n",
      "2024-09-13 01:31:09,407: Par EPR <quantumnet.objects.epr.Epr object at 0x00000131D113BFB0> adicionado ao canal.\n",
      "2024-09-13 01:31:09,408: Par EPR <quantumnet.objects.epr.Epr object at 0x00000131D14DF0B0> adicionado ao canal.\n",
      "2024-09-13 01:31:09,408: Par EPR <quantumnet.objects.epr.Epr object at 0x00000131D14B7BF0> adicionado ao canal.\n",
      "2024-09-13 01:31:09,408: Par EPR <quantumnet.objects.epr.Epr object at 0x00000131D14B7D10> adicionado ao canal.\n",
      "2024-09-13 01:31:09,409: Par EPR <quantumnet.objects.epr.Epr object at 0x00000131D14DFB90> adicionado ao canal.\n",
      "2024-09-13 01:31:09,409: Par EPR <quantumnet.objects.epr.Epr object at 0x00000131D14B7D40> adicionado ao canal.\n",
      "2024-09-13 01:31:09,409: Par EPR <quantumnet.objects.epr.Epr object at 0x00000131D14B7E60> adicionado ao canal.\n",
      "2024-09-13 01:31:09,409: Par EPR <quantumnet.objects.epr.Epr object at 0x00000131D14DFE30> adicionado ao canal.\n",
      "2024-09-13 01:31:09,409: Par EPR <quantumnet.objects.epr.Epr object at 0x00000131D14DFFE0> adicionado ao canal.\n",
      "2024-09-13 01:31:09,411: Par EPR <quantumnet.objects.epr.Epr object at 0x00000131D14DF9E0> adicionado ao canal.\n",
      "2024-09-13 01:31:09,411: Par EPR <quantumnet.objects.epr.Epr object at 0x00000131D14DFF80> adicionado ao canal.\n",
      "2024-09-13 01:31:09,411: Par EPR <quantumnet.objects.epr.Epr object at 0x00000131D14DC110> adicionado ao canal.\n",
      "2024-09-13 01:31:09,411: Par EPR <quantumnet.objects.epr.Epr object at 0x00000131D139C2F0> adicionado ao canal.\n",
      "2024-09-13 01:31:09,412: Par EPR <quantumnet.objects.epr.Epr object at 0x00000131D14DC0B0> adicionado ao canal.\n",
      "2024-09-13 01:31:09,412: Par EPR <quantumnet.objects.epr.Epr object at 0x00000131D14DC2C0> adicionado ao canal.\n",
      "2024-09-13 01:31:09,412: Par EPR <quantumnet.objects.epr.Epr object at 0x00000131D14B7DA0> adicionado ao canal.\n",
      "2024-09-13 01:31:09,412: Par EPR <quantumnet.objects.epr.Epr object at 0x00000131D14DC440> adicionado ao canal.\n",
      "2024-09-13 01:31:09,413: Par EPR <quantumnet.objects.epr.Epr object at 0x00000131D14DC710> adicionado ao canal.\n",
      "2024-09-13 01:31:09,413: Par EPR <quantumnet.objects.epr.Epr object at 0x00000131D14DC3B0> adicionado ao canal.\n",
      "2024-09-13 01:31:09,413: Par EPR <quantumnet.objects.epr.Epr object at 0x00000131D14F4470> adicionado ao canal.\n",
      "2024-09-13 01:31:09,414: Par EPR <quantumnet.objects.epr.Epr object at 0x00000131D14DCA10> adicionado ao canal.\n",
      "2024-09-13 01:31:09,414: Par EPR <quantumnet.objects.epr.Epr object at 0x00000131D14DC9B0> adicionado ao canal.\n",
      "2024-09-13 01:31:09,414: Par EPR <quantumnet.objects.epr.Epr object at 0x00000131D14F4890> adicionado ao canal.\n",
      "2024-09-13 01:31:09,416: Par EPR <quantumnet.objects.epr.Epr object at 0x00000131D14DC7A0> adicionado ao canal.\n",
      "2024-09-13 01:31:09,416: Par EPR <quantumnet.objects.epr.Epr object at 0x00000131D139CAD0> adicionado ao canal.\n",
      "2024-09-13 01:31:09,416: Par EPR <quantumnet.objects.epr.Epr object at 0x00000131D14DCA70> adicionado ao canal.\n",
      "2024-09-13 01:31:09,417: Par EPR <quantumnet.objects.epr.Epr object at 0x00000131D14DCCE0> adicionado ao canal.\n",
      "2024-09-13 01:31:09,417: Par EPR <quantumnet.objects.epr.Epr object at 0x00000131D14F4AA0> adicionado ao canal.\n",
      "2024-09-13 01:31:09,418: Par EPR <quantumnet.objects.epr.Epr object at 0x00000131D14F4830> adicionado ao canal.\n",
      "2024-09-13 01:31:09,418: Par EPR <quantumnet.objects.epr.Epr object at 0x00000131D14B5040> adicionado ao canal.\n",
      "2024-09-13 01:31:09,419: Par EPR <quantumnet.objects.epr.Epr object at 0x00000131D14DD100> adicionado ao canal.\n",
      "2024-09-13 01:31:09,419: Par EPR <quantumnet.objects.epr.Epr object at 0x00000131D14DD070> adicionado ao canal.\n",
      "2024-09-13 01:31:09,420: Par EPR <quantumnet.objects.epr.Epr object at 0x00000131D14B5250> adicionado ao canal.\n",
      "2024-09-13 01:31:09,420: Par EPR <quantumnet.objects.epr.Epr object at 0x00000131D14F4B90> adicionado ao canal.\n",
      "2024-09-13 01:31:09,421: Par EPR <quantumnet.objects.epr.Epr object at 0x00000131D14DD3A0> adicionado ao canal.\n",
      "2024-09-13 01:31:09,422: Par EPR <quantumnet.objects.epr.Epr object at 0x00000131D14DD310> adicionado ao canal.\n",
      "2024-09-13 01:31:09,423: Par EPR <quantumnet.objects.epr.Epr object at 0x00000131D14DCFB0> adicionado ao canal.\n",
      "2024-09-13 01:31:09,424: Par EPR <quantumnet.objects.epr.Epr object at 0x00000131D14B5490> adicionado ao canal.\n",
      "2024-09-13 01:31:09,424: Par EPR <quantumnet.objects.epr.Epr object at 0x00000131D14DD1C0> adicionado ao canal.\n",
      "2024-09-13 01:31:09,425: Par EPR <quantumnet.objects.epr.Epr object at 0x00000131D14DD2E0> adicionado ao canal.\n",
      "2024-09-13 01:31:09,426: Par EPR <quantumnet.objects.epr.Epr object at 0x00000131D14B51F0> adicionado ao canal.\n",
      "2024-09-13 01:31:09,426: Par EPR <quantumnet.objects.epr.Epr object at 0x00000131D14DD610> adicionado ao canal.\n",
      "2024-09-13 01:31:09,427: Par EPR <quantumnet.objects.epr.Epr object at 0x00000131D14B57C0> adicionado ao canal.\n",
      "2024-09-13 01:31:09,427: Par EPR <quantumnet.objects.epr.Epr object at 0x00000131D14DD910> adicionado ao canal.\n",
      "2024-09-13 01:31:09,428: Par EPR <quantumnet.objects.epr.Epr object at 0x00000131D14DD5B0> adicionado ao canal.\n",
      "2024-09-13 01:31:09,428: Par EPR <quantumnet.objects.epr.Epr object at 0x00000131D14F5850> adicionado ao canal.\n",
      "2024-09-13 01:31:09,428: Par EPR <quantumnet.objects.epr.Epr object at 0x00000131D14DDAF0> adicionado ao canal.\n",
      "2024-09-13 01:31:09,429: Par EPR <quantumnet.objects.epr.Epr object at 0x00000131D14F5430> adicionado ao canal.\n",
      "2024-09-13 01:31:09,429: Par EPR <quantumnet.objects.epr.Epr object at 0x00000131D14F4F20> adicionado ao canal.\n",
      "2024-09-13 01:31:09,429: Par EPR <quantumnet.objects.epr.Epr object at 0x00000131D14B5CA0> adicionado ao canal.\n",
      "2024-09-13 01:31:09,429: Par EPR <quantumnet.objects.epr.Epr object at 0x00000131D14DDD30> adicionado ao canal.\n",
      "2024-09-13 01:31:09,431: Par EPR <quantumnet.objects.epr.Epr object at 0x00000131D14F5B80> adicionado ao canal.\n",
      "2024-09-13 01:31:09,431: Par EPR <quantumnet.objects.epr.Epr object at 0x00000131D14DDE80> adicionado ao canal.\n",
      "2024-09-13 01:31:09,432: Par EPR <quantumnet.objects.epr.Epr object at 0x00000131D14F5D00> adicionado ao canal.\n",
      "2024-09-13 01:31:09,432: Par EPR <quantumnet.objects.epr.Epr object at 0x00000131D14DDE20> adicionado ao canal.\n",
      "2024-09-13 01:31:09,433: Par EPR <quantumnet.objects.epr.Epr object at 0x00000131D14DDAC0> adicionado ao canal.\n",
      "2024-09-13 01:31:09,433: Par EPR <quantumnet.objects.epr.Epr object at 0x00000131D14F5A00> adicionado ao canal.\n",
      "2024-09-13 01:31:09,433: Par EPR <quantumnet.objects.epr.Epr object at 0x00000131D14DE060> adicionado ao canal.\n",
      "2024-09-13 01:31:09,434: Par EPR <quantumnet.objects.epr.Epr object at 0x00000131D14DE090> adicionado ao canal.\n",
      "2024-09-13 01:31:09,434: Par EPR <quantumnet.objects.epr.Epr object at 0x00000131D14F5FD0> adicionado ao canal.\n",
      "2024-09-13 01:31:09,434: Par EPR <quantumnet.objects.epr.Epr object at 0x00000131D14B5BE0> adicionado ao canal.\n",
      "2024-09-13 01:31:09,435: Par EPR <quantumnet.objects.epr.Epr object at 0x00000131D14DE240> adicionado ao canal.\n",
      "2024-09-13 01:31:09,435: Par EPR <quantumnet.objects.epr.Epr object at 0x00000131D14DE420> adicionado ao canal.\n",
      "2024-09-13 01:31:09,435: Par EPR <quantumnet.objects.epr.Epr object at 0x00000131D14DE4B0> adicionado ao canal.\n",
      "2024-09-13 01:31:09,436: Par EPR <quantumnet.objects.epr.Epr object at 0x00000131D14DE3F0> adicionado ao canal.\n",
      "2024-09-13 01:31:09,436: Par EPR <quantumnet.objects.epr.Epr object at 0x00000131D14DE2A0> adicionado ao canal.\n",
      "2024-09-13 01:31:09,436: Par EPR <quantumnet.objects.epr.Epr object at 0x00000131D14F6390> adicionado ao canal.\n",
      "2024-09-13 01:31:09,437: Par EPR <quantumnet.objects.epr.Epr object at 0x00000131D14B6270> adicionado ao canal.\n",
      "2024-09-13 01:31:09,437: Par EPR <quantumnet.objects.epr.Epr object at 0x00000131D14DE7B0> adicionado ao canal.\n",
      "2024-09-13 01:31:09,437: Par EPR <quantumnet.objects.epr.Epr object at 0x00000131D14B6840> adicionado ao canal.\n",
      "2024-09-13 01:31:09,438: Par EPR <quantumnet.objects.epr.Epr object at 0x00000131D14DE780> adicionado ao canal.\n",
      "2024-09-13 01:31:09,438: Par EPR <quantumnet.objects.epr.Epr object at 0x00000131D14B6960> adicionado ao canal.\n",
      "2024-09-13 01:31:09,438: Par EPR <quantumnet.objects.epr.Epr object at 0x00000131D14B69F0> adicionado ao canal.\n",
      "2024-09-13 01:31:09,439: Par EPR <quantumnet.objects.epr.Epr object at 0x00000131D14DE9C0> adicionado ao canal.\n",
      "2024-09-13 01:31:09,439: Par EPR <quantumnet.objects.epr.Epr object at 0x00000131D14B6AE0> adicionado ao canal.\n",
      "2024-09-13 01:31:09,439: Par EPR <quantumnet.objects.epr.Epr object at 0x00000131D14B6B10> adicionado ao canal.\n",
      "2024-09-13 01:31:09,441: Par EPR <quantumnet.objects.epr.Epr object at 0x00000131D14DEC60> adicionado ao canal.\n",
      "2024-09-13 01:31:09,441: Par EPR <quantumnet.objects.epr.Epr object at 0x00000131D14DECF0> adicionado ao canal.\n",
      "2024-09-13 01:31:09,441: Par EPR <quantumnet.objects.epr.Epr object at 0x00000131D14DE360> adicionado ao canal.\n",
      "2024-09-13 01:31:09,442: Par EPR <quantumnet.objects.epr.Epr object at 0x00000131D14DEE10> adicionado ao canal.\n",
      "2024-09-13 01:31:09,442: Par EPR <quantumnet.objects.epr.Epr object at 0x00000131D14B6EA0> adicionado ao canal.\n",
      "2024-09-13 01:31:09,442: Par EPR <quantumnet.objects.epr.Epr object at 0x00000131D14B6BD0> adicionado ao canal.\n",
      "2024-09-13 01:31:09,443: Par EPR <quantumnet.objects.epr.Epr object at 0x00000131D14DEFC0> adicionado ao canal.\n",
      "2024-09-13 01:31:09,443: Par EPR <quantumnet.objects.epr.Epr object at 0x00000131D14B7050> adicionado ao canal.\n",
      "2024-09-13 01:31:09,443: Par EPR <quantumnet.objects.epr.Epr object at 0x00000131D14DEDB0> adicionado ao canal.\n",
      "2024-09-13 01:31:09,443: Par EPR <quantumnet.objects.epr.Epr object at 0x00000131D14DE8A0> adicionado ao canal.\n",
      "2024-09-13 01:31:09,444: Par EPR <quantumnet.objects.epr.Epr object at 0x00000131D14B7140> adicionado ao canal.\n",
      "2024-09-13 01:31:09,444: Par EPR <quantumnet.objects.epr.Epr object at 0x00000131D0F4EF60> adicionado ao canal.\n",
      "2024-09-13 01:31:09,445: Par EPR <quantumnet.objects.epr.Epr object at 0x00000131D14DEC30> adicionado ao canal.\n",
      "2024-09-13 01:31:09,445: Par EPR <quantumnet.objects.epr.Epr object at 0x00000131D14DF1D0> adicionado ao canal.\n",
      "2024-09-13 01:31:09,446: Par EPR <quantumnet.objects.epr.Epr object at 0x00000131D14DF380> adicionado ao canal.\n",
      "2024-09-13 01:31:09,446: Par EPR <quantumnet.objects.epr.Epr object at 0x00000131D14F7110> adicionado ao canal.\n",
      "2024-09-13 01:31:09,446: Par EPR <quantumnet.objects.epr.Epr object at 0x00000131D14DF0E0> adicionado ao canal.\n",
      "2024-09-13 01:31:09,446: Par EPR <quantumnet.objects.epr.Epr object at 0x00000131D14B7290> adicionado ao canal.\n",
      "2024-09-13 01:31:09,446: Par EPR <quantumnet.objects.epr.Epr object at 0x00000131D14F73B0> adicionado ao canal.\n",
      "2024-09-13 01:31:09,447: Par EPR <quantumnet.objects.epr.Epr object at 0x00000131D14DF650> adicionado ao canal.\n",
      "2024-09-13 01:31:09,447: Par EPR <quantumnet.objects.epr.Epr object at 0x00000131D14DF590> adicionado ao canal.\n",
      "2024-09-13 01:31:09,448: Par EPR <quantumnet.objects.epr.Epr object at 0x00000131D14F6F90> adicionado ao canal.\n"
     ]
    },
    {
     "name": "stdout",
     "output_type": "stream",
     "text": [
      "Hosts inicializados\n",
      "Canais inicializados\n",
      "Pares EPRs adicionados\n"
     ]
    },
    {
     "data": {
      "image/png": "[encoded data removed]",
      "text/plain": [
       "<Figure size 640x480 with 1 Axes>"
      ]
     },
     "metadata": {},
     "output_type": "display_data"
    }
   ],
   "source": [
    "rede = Network()\n",
    "rede.set_ready_topology(\"Grade\", 3,3)\n",
    "rede.draw()"
   ]
  },
  {
   "cell_type": "markdown",
   "metadata": {},
   "source": [
    "##### Selecionando aleatoriamente uma aresta do grafo da rede e deseguinando quem será Alice e Bob."
   ]
  },
  {
   "cell_type": "code",
   "execution_count": 3,
   "metadata": {},
   "outputs": [],
   "source": [
    "arestas = list(rede.edges)\n",
    "aresta_aleatorias = random.sample(arestas, 1)[0]\n",
    "x,y = aresta_aleatorias\n",
    "\n",
    "alice = rede.get_host(x)\n",
    "bob = rede.get_host(y)"
   ]
  },
  {
   "cell_type": "markdown",
   "metadata": {},
   "source": [
    "##### Adicionando qubits aos hosts."
   ]
  },
  {
   "cell_type": "code",
   "execution_count": 4,
   "metadata": {},
   "outputs": [
    {
     "name": "stderr",
     "output_type": "stream",
     "text": [
      "2024-09-13 01:31:10,069: Qubit 1 adicionado à memória do Host 3.\n",
      "2024-09-13 01:31:10,070: Qubit 2 adicionado à memória do Host 6.\n"
     ]
    }
   ],
   "source": [
    "h1 = Qubit(1)\n",
    "h2 = Qubit(2)\n",
    "\n",
    "alice.add_qubit(h1)\n",
    "bob.add_qubit(h2)"
   ]
  },
  {
   "cell_type": "markdown",
   "metadata": {},
   "source": [
    "##### Acessando a memória dos Hosts."
   ]
  },
  {
   "cell_type": "code",
   "execution_count": 5,
   "metadata": {},
   "outputs": [
    {
     "name": "stdout",
     "output_type": "stream",
     "text": [
      "[<quantumnet.objects.qubit.Qubit object at 0x00000131D14B6F90>, <quantumnet.objects.qubit.Qubit object at 0x00000131D12FEAE0>, <quantumnet.objects.qubit.Qubit object at 0x00000131D14B6D20>, <quantumnet.objects.qubit.Qubit object at 0x00000131D12FEFC0>, <quantumnet.objects.qubit.Qubit object at 0x00000131D13BE0F0>, <quantumnet.objects.qubit.Qubit object at 0x00000131D1263020>, <quantumnet.objects.qubit.Qubit object at 0x00000131D0F4EF30>, <quantumnet.objects.qubit.Qubit object at 0x00000131D0F4FA40>, <quantumnet.objects.qubit.Qubit object at 0x00000131D14B6E70>, <quantumnet.objects.qubit.Qubit object at 0x00000131D0AE7B30>, <quantumnet.objects.qubit.Qubit object at 0x00000131CF5E9640>]\n",
      "[<quantumnet.objects.qubit.Qubit object at 0x00000131D14B56A0>, <quantumnet.objects.qubit.Qubit object at 0x00000131D14B55B0>, <quantumnet.objects.qubit.Qubit object at 0x00000131D1325700>, <quantumnet.objects.qubit.Qubit object at 0x00000131D14B5910>, <quantumnet.objects.qubit.Qubit object at 0x00000131D14B5A90>, <quantumnet.objects.qubit.Qubit object at 0x00000131D14B5B80>, <quantumnet.objects.qubit.Qubit object at 0x00000131D14B58E0>, <quantumnet.objects.qubit.Qubit object at 0x00000131D14DD850>, <quantumnet.objects.qubit.Qubit object at 0x00000131D14B5E80>, <quantumnet.objects.qubit.Qubit object at 0x00000131D14B6000>, <quantumnet.objects.qubit.Qubit object at 0x00000131E8687350>]\n"
     ]
    }
   ],
   "source": [
    "print(alice.memory)\n",
    "print(bob.memory)"
   ]
  },
  {
   "cell_type": "markdown",
   "metadata": {},
   "source": [
    "##### Obtendo o útimo qubit de um dos hosts"
   ]
  },
  {
   "cell_type": "code",
   "execution_count": 6,
   "metadata": {},
   "outputs": [],
   "source": [
    "qub1 = alice.get_last_qubit()"
   ]
  },
  {
   "cell_type": "markdown",
   "metadata": {},
   "source": [
    "##### Medindo a fidelidade entre dois qubits\n"
   ]
  },
  {
   "cell_type": "code",
   "execution_count": 7,
   "metadata": {},
   "outputs": [
    {
     "name": "stderr",
     "output_type": "stream",
     "text": [
      "2024-09-13 01:31:10,096: A fidelidade inicial do qubit 1 é 0.7738147657581395\n",
      "2024-09-13 01:31:10,098: A fidelidade inicial do qubit 2 é 0.8118568340269824\n",
      "2024-09-13 01:31:10,099: Fidelidade combinada entre qubit 1 e qubit 2: 0.6282268058517341.\n"
     ]
    },
    {
     "data": {
      "text/plain": [
       "0.6282268058517341"
      ]
     },
     "execution_count": 7,
     "metadata": {},
     "output_type": "execute_result"
    }
   ],
   "source": [
    "#Pode medir a fidelidade por meio dessa função\n",
    "rede.physical.fidelity_measurement(h1,h2)"
   ]
  },
  {
   "cell_type": "markdown",
   "metadata": {},
   "source": [
    "##### Medindo a fidelidade de um qubit\n"
   ]
  },
  {
   "cell_type": "code",
   "execution_count": 8,
   "metadata": {},
   "outputs": [
    {
     "name": "stderr",
     "output_type": "stream",
     "text": [
      "2024-09-13 01:31:10,106: A fidelidade inicial do qubit 1 é 0.7738147657581395\n"
     ]
    },
    {
     "data": {
      "text/plain": [
       "0.7738147657581395"
      ]
     },
     "execution_count": 8,
     "metadata": {},
     "output_type": "execute_result"
    }
   ],
   "source": [
    "#Pode se medir a fidelidade e acessar de somente um host\n",
    "rede.physical.fidelity_measurement_only_one(h1)\n"
   ]
  },
  {
   "cell_type": "markdown",
   "metadata": {},
   "source": [
    "##### Criação do protocolo de entrelaçamento entre dois qubits"
   ]
  },
  {
   "cell_type": "code",
   "execution_count": 9,
   "metadata": {},
   "outputs": [
    {
     "name": "stderr",
     "output_type": "stream",
     "text": [
      "2024-09-13 01:31:10,115: Timeslot 1: Par epr criado com fidelidade 0.21463881828151268\n",
      "2024-09-13 01:31:10,116: Timeslot 2: O protocolo de criação de emaranhamento foi bem sucedido, mas com fidelidade baixa.\n"
     ]
    },
    {
     "name": "stdout",
     "output_type": "stream",
     "text": [
      "Fidelidade do qubit 0 atualizada para 0.7307772467873408\n",
      "Fidelidade do qubit 1 atualizada para 0.7432411769292598\n",
      "Fidelidade do qubit 2 atualizada para 0.01480118123059977\n",
      "Fidelidade do qubit 3 atualizada para 0.5567998482978477\n",
      "Fidelidade do qubit 4 atualizada para 0.30766419517765914\n",
      "Fidelidade do qubit 5 atualizada para 0.7961444443996781\n",
      "Fidelidade do qubit 6 atualizada para 0.6375362768225613\n",
      "Fidelidade do qubit 7 atualizada para 0.1514482621947454\n",
      "Fidelidade do qubit 8 atualizada para 0.17131719699397147\n",
      "Fidelidade do qubit 9 atualizada para 0.3787759498291141\n",
      "Fidelidade do qubit 10 atualizada para 0.5214917703728985\n",
      "Fidelidade do qubit 11 atualizada para 0.7648995016955142\n",
      "Fidelidade do qubit 12 atualizada para 0.8417982722545373\n",
      "Fidelidade do qubit 13 atualizada para 0.2620546662777348\n",
      "Fidelidade do qubit 14 atualizada para 0.6061502824674901\n",
      "Fidelidade do qubit 15 atualizada para 0.5481842961894332\n",
      "Fidelidade do qubit 16 atualizada para 0.5282756367413461\n",
      "Fidelidade do qubit 17 atualizada para 0.625306058837495\n",
      "Fidelidade do qubit 18 atualizada para 0.5050485283876679\n",
      "Fidelidade do qubit 19 atualizada para 0.03770664464330336\n",
      "Fidelidade do qubit 20 atualizada para 0.4887105314937572\n",
      "Fidelidade do qubit 21 atualizada para 0.6856169179020437\n",
      "Fidelidade do qubit 22 atualizada para 0.30728963729908454\n",
      "Fidelidade do qubit 23 atualizada para 0.32994175329880887\n",
      "Fidelidade do qubit 24 atualizada para 0.10522967963393966\n",
      "Fidelidade do qubit 25 atualizada para 0.29600662867588523\n",
      "Fidelidade do qubit 26 atualizada para 0.551387369878742\n",
      "Fidelidade do qubit 27 atualizada para 0.27026209041912924\n",
      "Fidelidade do qubit 28 atualizada para 0.24546935560515523\n",
      "Fidelidade do qubit 29 atualizada para 0.892138692585889\n",
      "Fidelidade do qubit 30 atualizada para 0.5166461352479497\n",
      "Fidelidade do qubit 31 atualizada para 0.544058394916539\n",
      "Fidelidade do qubit 32 atualizada para 0.8130337800238382\n",
      "Fidelidade do qubit 33 atualizada para 0.22150685266430287\n",
      "Fidelidade do qubit 34 atualizada para 0.04401985579335869\n",
      "Fidelidade do qubit 35 atualizada para 0.505278179224832\n",
      "Fidelidade do qubit 36 atualizada para 0.5663944179080169\n",
      "Fidelidade do qubit 37 atualizada para 0.34901498908107337\n",
      "Fidelidade do qubit 38 atualizada para 0.7383978668381239\n",
      "Fidelidade do qubit 39 atualizada para 0.29375570405116674\n",
      "Fidelidade do qubit 40 atualizada para 0.5606573475418367\n",
      "Fidelidade do qubit 41 atualizada para 0.5920105656276443\n",
      "Fidelidade do qubit 42 atualizada para 0.007150801004665075\n",
      "Fidelidade do qubit 43 atualizada para 0.43621405918435263\n",
      "Fidelidade do qubit 44 atualizada para 0.34721903835619405\n",
      "Fidelidade do qubit 45 atualizada para 0.2628179646310372\n",
      "Fidelidade do qubit 46 atualizada para 0.1602756203515088\n",
      "Fidelidade do qubit 47 atualizada para 0.23910357628257065\n",
      "Fidelidade do qubit 48 atualizada para 0.8825835823284887\n",
      "Fidelidade do qubit 49 atualizada para 0.17508597880303006\n",
      "Fidelidade do qubit 50 atualizada para 0.6665430334179855\n",
      "Fidelidade do qubit 51 atualizada para 0.01479114445307338\n",
      "Fidelidade do qubit 52 atualizada para 0.2264633078788511\n",
      "Fidelidade do qubit 53 atualizada para 0.025511987385585355\n",
      "Fidelidade do qubit 54 atualizada para 0.2687807673643823\n",
      "Fidelidade do qubit 55 atualizada para 0.3079293091353803\n",
      "Fidelidade do qubit 56 atualizada para 0.7555698845291934\n",
      "Fidelidade do qubit 57 atualizada para 0.1448686697878379\n",
      "Fidelidade do qubit 58 atualizada para 0.5227017293054768\n",
      "Fidelidade do qubit 59 atualizada para 0.1030542519826706\n",
      "Fidelidade do qubit 60 atualizada para 0.4884365988002547\n",
      "Fidelidade do qubit 61 atualizada para 0.06458792309704386\n",
      "Fidelidade do qubit 62 atualizada para 0.1323703687341273\n",
      "Fidelidade do qubit 63 atualizada para 0.10022532481838352\n",
      "Fidelidade do qubit 64 atualizada para 0.34848350501982106\n",
      "Fidelidade do qubit 65 atualizada para 0.4011900174504637\n",
      "Fidelidade do qubit 66 atualizada para 0.43659333691334073\n",
      "Fidelidade do qubit 67 atualizada para 0.830536915267613\n",
      "Fidelidade do qubit 68 atualizada para 0.5126738065328322\n",
      "Fidelidade do qubit 69 atualizada para 0.8201891077590975\n",
      "Fidelidade do qubit 2 atualizada para 0.7306711506242841\n",
      "Fidelidade do qubit 70 atualizada para 0.71832321506343\n",
      "Fidelidade do qubit 71 atualizada para 0.3017773391473369\n",
      "Fidelidade do qubit 72 atualizada para 0.5043516830999026\n",
      "Fidelidade do qubit 73 atualizada para 0.02787325691295046\n",
      "Fidelidade do qubit 74 atualizada para 0.5183150774429449\n",
      "Fidelidade do qubit 75 atualizada para 0.7931045347823812\n",
      "Fidelidade do qubit 76 atualizada para 0.6050975978605716\n",
      "Fidelidade do qubit 77 atualizada para 0.6811225008702751\n",
      "Fidelidade do qubit 78 atualizada para 0.3097177963967438\n",
      "Fidelidade do qubit 79 atualizada para 0.2802458235687685\n",
      "Fidelidade do qubit 80 atualizada para 0.8036708943053492\n",
      "Fidelidade do qubit 81 atualizada para 0.6759205193736699\n",
      "Fidelidade do qubit 82 atualizada para 0.8468244058245724\n",
      "Fidelidade do qubit 83 atualizada para 0.6375381350769117\n",
      "Fidelidade do qubit 84 atualizada para 0.26795567973495515\n",
      "Fidelidade do qubit 85 atualizada para 0.8029387759398374\n",
      "Fidelidade do qubit 86 atualizada para 0.08122235587889089\n",
      "Fidelidade do qubit 87 atualizada para 0.773078427214725\n",
      "Fidelidade do qubit 88 atualizada para 0.4175370262704727\n",
      "Fidelidade do qubit 89 atualizada para 0.7770755376624506\n",
      "Fidelidade do qubit 0 atualizada para 0.6576995221086067\n",
      "Fidelidade do qubit 1 atualizada para 0.6689170592363338\n",
      "Fidelidade do qubit 2 atualizada para 0.013321063107539794\n",
      "Fidelidade do qubit 3 atualizada para 0.5011198634680629\n",
      "Fidelidade do qubit 4 atualizada para 0.2768977756598932\n",
      "Fidelidade do qubit 5 atualizada para 0.7165299999597103\n",
      "Fidelidade do qubit 6 atualizada para 0.5737826491403052\n",
      "Fidelidade do qubit 7 atualizada para 0.13630343597527086\n",
      "Fidelidade do qubit 8 atualizada para 0.15418547729457432\n",
      "Fidelidade do qubit 9 atualizada para 0.34089835484620273\n",
      "Fidelidade do qubit 10 atualizada para 0.4693425933356087\n",
      "Fidelidade do qubit 11 atualizada para 0.6884095515259628\n",
      "Fidelidade do qubit 12 atualizada para 0.7576184450290836\n",
      "Fidelidade do qubit 13 atualizada para 0.23584919964996134\n",
      "Fidelidade do qubit 14 atualizada para 0.5455352542207411\n",
      "Fidelidade do qubit 15 atualizada para 0.4933658665704899\n",
      "Fidelidade do qubit 16 atualizada para 0.47544807306721154\n",
      "Fidelidade do qubit 17 atualizada para 0.5627754529537455\n",
      "Fidelidade do qubit 18 atualizada para 0.4545436755489011\n",
      "Fidelidade do qubit 19 atualizada para 0.03393598017897302\n",
      "Fidelidade do qubit 20 atualizada para 0.4398394783443815\n",
      "Fidelidade do qubit 21 atualizada para 0.6170552261118394\n",
      "Fidelidade do qubit 22 atualizada para 0.2765606735691761\n",
      "Fidelidade do qubit 23 atualizada para 0.296947577968928\n",
      "Fidelidade do qubit 24 atualizada para 0.09470671167054569\n",
      "Fidelidade do qubit 25 atualizada para 0.26640596580829673\n",
      "Fidelidade do qubit 26 atualizada para 0.49624863289086785\n",
      "Fidelidade do qubit 27 atualizada para 0.24323588137721633\n",
      "Fidelidade do qubit 28 atualizada para 0.22092242004463972\n",
      "Fidelidade do qubit 29 atualizada para 0.8029248233273001\n",
      "Fidelidade do qubit 30 atualizada para 0.4649815217231547\n",
      "Fidelidade do qubit 31 atualizada para 0.48965255542488506\n",
      "Fidelidade do qubit 32 atualizada para 0.7317304020214543\n",
      "Fidelidade do qubit 33 atualizada para 0.1993561673978726\n",
      "Fidelidade do qubit 34 atualizada para 0.03961787021402282\n",
      "Fidelidade do qubit 35 atualizada para 0.4547503613023488\n",
      "Fidelidade do qubit 36 atualizada para 0.5097549761172152\n",
      "Fidelidade do qubit 37 atualizada para 0.314113490172966\n",
      "Fidelidade do qubit 38 atualizada para 0.6645580801543115\n",
      "Fidelidade do qubit 40 atualizada para 0.5045916127876531\n",
      "Fidelidade do qubit 41 atualizada para 0.5328095090648799\n",
      "Fidelidade do qubit 42 atualizada para 0.006435720904198567\n",
      "Fidelidade do qubit 43 atualizada para 0.39259265326591736\n",
      "Fidelidade do qubit 44 atualizada para 0.31249713452057465\n",
      "Fidelidade do qubit 45 atualizada para 0.23653616816793346\n",
      "Fidelidade do qubit 46 atualizada para 0.14424805831635792\n",
      "Fidelidade do qubit 47 atualizada para 0.2151932186543136\n",
      "Fidelidade do qubit 48 atualizada para 0.7943252240956398\n",
      "Fidelidade do qubit 49 atualizada para 0.15757738092272705\n",
      "Fidelidade do qubit 50 atualizada para 0.5998887300761869\n",
      "Fidelidade do qubit 51 atualizada para 0.013312030007766042\n",
      "Fidelidade do qubit 52 atualizada para 0.203816977090966\n",
      "Fidelidade do qubit 53 atualizada para 0.02296078864702682\n",
      "Fidelidade do qubit 54 atualizada para 0.24190269062794406\n",
      "Fidelidade do qubit 55 atualizada para 0.2771363782218423\n",
      "Fidelidade do qubit 56 atualizada para 0.680012896076274\n",
      "Fidelidade do qubit 57 atualizada para 0.13038180280905412\n",
      "Fidelidade do qubit 58 atualizada para 0.4704315563749291\n",
      "Fidelidade do qubit 59 atualizada para 0.09274882678440353\n",
      "Fidelidade do qubit 60 atualizada para 0.4395929389202292\n",
      "Fidelidade do qubit 61 atualizada para 0.05812913078733948\n",
      "Fidelidade do qubit 62 atualizada para 0.11913333186071458\n",
      "Fidelidade do qubit 63 atualizada para 0.09020279233654517\n",
      "Fidelidade do qubit 64 atualizada para 0.31363515451783897\n",
      "Fidelidade do qubit 65 atualizada para 0.36107101570541733\n",
      "Fidelidade do qubit 66 atualizada para 0.39293400322200667\n",
      "Fidelidade do qubit 67 atualizada para 0.7474832237408517\n",
      "Fidelidade do qubit 68 atualizada para 0.461406425879549\n",
      "Fidelidade do qubit 69 atualizada para 0.7381701969831878\n",
      "Fidelidade do qubit 70 atualizada para 0.646490893557087\n",
      "Fidelidade do qubit 71 atualizada para 0.27159960523260324\n",
      "Fidelidade do qubit 72 atualizada para 0.4539165147899124\n",
      "Fidelidade do qubit 73 atualizada para 0.025085931221655415\n",
      "Fidelidade do qubit 74 atualizada para 0.46648356969865046\n",
      "Fidelidade do qubit 75 atualizada para 0.7137940813041431\n",
      "Fidelidade do qubit 76 atualizada para 0.5445878380745145\n",
      "Fidelidade do qubit 77 atualizada para 0.6130102507832477\n",
      "Fidelidade do qubit 78 atualizada para 0.27874601675706945\n",
      "Fidelidade do qubit 79 atualizada para 0.25222124121189166\n",
      "Fidelidade do qubit 80 atualizada para 0.7233038048748143\n",
      "Fidelidade do qubit 81 atualizada para 0.608328467436303\n",
      "Fidelidade do qubit 82 atualizada para 0.7621419652421152\n",
      "Fidelidade do qubit 83 atualizada para 0.5737843215692205\n",
      "Fidelidade do qubit 84 atualizada para 0.24116011176145966\n",
      "Fidelidade do qubit 85 atualizada para 0.7226448983458537\n",
      "Fidelidade do qubit 86 atualizada para 0.0731001202910018\n",
      "Fidelidade do qubit 87 atualizada para 0.6957705844932525\n",
      "Fidelidade do qubit 88 atualizada para 0.3757833236434254\n",
      "Fidelidade do qubit 89 atualizada para 0.6993679838962056\n"
     ]
    },
    {
     "data": {
      "text/plain": [
       "False"
      ]
     },
     "execution_count": 9,
     "metadata": {},
     "output_type": "execute_result"
    }
   ],
   "source": [
    "rede.physical.entanglement_creation_heralding_protocol(alice,bob)"
   ]
  },
  {
   "cell_type": "code",
   "execution_count": 10,
   "metadata": {},
   "outputs": [
    {
     "name": "stderr",
     "output_type": "stream",
     "text": [
      "2024-09-13 01:31:10,127: A fidelidade atualizada do qubit 1 após decoerência é 0.766076618100558\n"
     ]
    },
    {
     "name": "stdout",
     "output_type": "stream",
     "text": [
      "Fidelidade do qubit 1 atualizada para 0.766076618100558\n"
     ]
    },
    {
     "data": {
      "text/plain": [
       "0.766076618100558"
      ]
     },
     "execution_count": 10,
     "metadata": {},
     "output_type": "execute_result"
    }
   ],
   "source": [
    "#Pode se medir a fidelidade e acessar de somente um host\n",
    "rede.physical.fidelity_measurement_only_one(h1)\n"
   ]
  },
  {
   "cell_type": "markdown",
   "metadata": {},
   "source": [
    "##### Realiza-se o primeiro protocolo, on demand, que através da fidelidade inicial e da probabilidade de sucesso do on demand determina o sucesso do ECHP"
   ]
  },
  {
   "cell_type": "code",
   "execution_count": 11,
   "metadata": {},
   "outputs": [
    {
     "name": "stderr",
     "output_type": "stream",
     "text": [
      "2024-09-13 01:31:10,138: A fidelidade atualizada do qubit 29 após decoerência é 0.7154060175846244\n",
      "2024-09-13 01:31:10,139: A fidelidade atualizada do qubit 59 após decoerência é 0.08263920466490354\n",
      "2024-09-13 01:31:10,139: Timeslot 3: A probabilidade de sucesso do ECHP falhou.\n"
     ]
    },
    {
     "name": "stdout",
     "output_type": "stream",
     "text": [
      "Fidelidade do qubit 0 atualizada para 0.591929569897746\n",
      "Fidelidade do qubit 1 atualizada para 0.6020253533127005\n",
      "Fidelidade do qubit 2 atualizada para 0.011988956796785815\n",
      "Fidelidade do qubit 3 atualizada para 0.4510078771212566\n",
      "Fidelidade do qubit 4 atualizada para 0.2492079980939039\n",
      "Fidelidade do qubit 5 atualizada para 0.6448769999637394\n",
      "Fidelidade do qubit 6 atualizada para 0.5164043842262747\n",
      "Fidelidade do qubit 7 atualizada para 0.12267309237774378\n",
      "Fidelidade do qubit 8 atualizada para 0.1387669295651169\n",
      "Fidelidade do qubit 9 atualizada para 0.3068085193615825\n",
      "Fidelidade do qubit 10 atualizada para 0.4224083340020478\n",
      "Fidelidade do qubit 11 atualizada para 0.6195685963733666\n",
      "Fidelidade do qubit 12 atualizada para 0.6818566005261752\n",
      "Fidelidade do qubit 13 atualizada para 0.21226427968496522\n",
      "Fidelidade do qubit 14 atualizada para 0.490981728798667\n",
      "Fidelidade do qubit 15 atualizada para 0.44402927991344093\n",
      "Fidelidade do qubit 16 atualizada para 0.42790326576049037\n",
      "Fidelidade do qubit 17 atualizada para 0.506497907658371\n",
      "Fidelidade do qubit 18 atualizada para 0.409089307994011\n",
      "Fidelidade do qubit 19 atualizada para 0.03054238216107572\n",
      "Fidelidade do qubit 20 atualizada para 0.3958555305099433\n",
      "Fidelidade do qubit 21 atualizada para 0.5553497035006555\n",
      "Fidelidade do qubit 22 atualizada para 0.24890460621225846\n",
      "Fidelidade do qubit 23 atualizada para 0.2672528201720352\n",
      "Fidelidade do qubit 24 atualizada para 0.08523604050349112\n",
      "Fidelidade do qubit 25 atualizada para 0.23976536922746705\n",
      "Fidelidade do qubit 26 atualizada para 0.4466237696017811\n",
      "Fidelidade do qubit 27 atualizada para 0.2189122932394947\n",
      "Fidelidade do qubit 28 atualizada para 0.19883017804017575\n",
      "Fidelidade do qubit 29 atualizada para 0.7226323409945701\n",
      "Fidelidade do qubit 30 atualizada para 0.41848336955083926\n",
      "Fidelidade do qubit 31 atualizada para 0.4406872998823966\n",
      "Fidelidade do qubit 32 atualizada para 0.6585573618193089\n",
      "Fidelidade do qubit 33 atualizada para 0.17942055065808535\n",
      "Fidelidade do qubit 34 atualizada para 0.035656083192620536\n",
      "Fidelidade do qubit 35 atualizada para 0.40927532517211396\n",
      "Fidelidade do qubit 36 atualizada para 0.4587794785054937\n",
      "Fidelidade do qubit 37 atualizada para 0.28270214115566944\n",
      "Fidelidade do qubit 38 atualizada para 0.5981022721388803\n",
      "Fidelidade do qubit 40 atualizada para 0.45413245150888776\n",
      "Fidelidade do qubit 41 atualizada para 0.4795285581583919\n",
      "Fidelidade do qubit 42 atualizada para 0.005792148813778711\n",
      "Fidelidade do qubit 43 atualizada para 0.3533333879393256\n",
      "Fidelidade do qubit 44 atualizada para 0.2812474210685172\n",
      "Fidelidade do qubit 45 atualizada para 0.21288255135114012\n",
      "Fidelidade do qubit 46 atualizada para 0.12982325248472212\n",
      "Fidelidade do qubit 47 atualizada para 0.19367389678888225\n",
      "Fidelidade do qubit 48 atualizada para 0.7148927016860758\n",
      "Fidelidade do qubit 49 atualizada para 0.14181964283045434\n",
      "Fidelidade do qubit 50 atualizada para 0.5398998570685682\n",
      "Fidelidade do qubit 51 atualizada para 0.011980827006989438\n",
      "Fidelidade do qubit 52 atualizada para 0.1834352793818694\n",
      "Fidelidade do qubit 53 atualizada para 0.02066470978232414\n",
      "Fidelidade do qubit 54 atualizada para 0.21771242156514967\n",
      "Fidelidade do qubit 55 atualizada para 0.24942274039965806\n",
      "Fidelidade do qubit 56 atualizada para 0.6120116064686466\n",
      "Fidelidade do qubit 57 atualizada para 0.11734362252814871\n",
      "Fidelidade do qubit 58 atualizada para 0.4233884007374362\n",
      "Fidelidade do qubit 59 atualizada para 0.08347394410596318\n",
      "Fidelidade do qubit 60 atualizada para 0.3956336450282063\n",
      "Fidelidade do qubit 61 atualizada para 0.052316217708605534\n",
      "Fidelidade do qubit 62 atualizada para 0.10721999867464312\n",
      "Fidelidade do qubit 63 atualizada para 0.08118251310289065\n",
      "Fidelidade do qubit 64 atualizada para 0.28227163906605507\n",
      "Fidelidade do qubit 65 atualizada para 0.32496391413487563\n",
      "Fidelidade do qubit 66 atualizada para 0.35364060289980603\n",
      "Fidelidade do qubit 67 atualizada para 0.6727349013667666\n",
      "Fidelidade do qubit 68 atualizada para 0.4152657832915941\n",
      "Fidelidade do qubit 69 atualizada para 0.664353177284869\n",
      "Fidelidade do qubit 70 atualizada para 0.5818418042013783\n",
      "Fidelidade do qubit 71 atualizada para 0.24443964470934293\n",
      "Fidelidade do qubit 72 atualizada para 0.4085248633109212\n",
      "Fidelidade do qubit 73 atualizada para 0.022577338099489874\n",
      "Fidelidade do qubit 74 atualizada para 0.41983521272878543\n",
      "Fidelidade do qubit 75 atualizada para 0.6424146731737288\n",
      "Fidelidade do qubit 76 atualizada para 0.49012905426706305\n",
      "Fidelidade do qubit 77 atualizada para 0.5517092257049229\n",
      "Fidelidade do qubit 78 atualizada para 0.2508714150813625\n",
      "Fidelidade do qubit 79 atualizada para 0.2269991170907025\n",
      "Fidelidade do qubit 80 atualizada para 0.6509734243873329\n",
      "Fidelidade do qubit 81 atualizada para 0.5474956206926727\n",
      "Fidelidade do qubit 82 atualizada para 0.6859277687179037\n",
      "Fidelidade do qubit 83 atualizada para 0.5164058894122985\n",
      "Fidelidade do qubit 84 atualizada para 0.2170441005853137\n",
      "Fidelidade do qubit 85 atualizada para 0.6503804085112683\n",
      "Fidelidade do qubit 86 atualizada para 0.06579010826190163\n",
      "Fidelidade do qubit 87 atualizada para 0.6261935260439272\n",
      "Fidelidade do qubit 88 atualizada para 0.3382049912790829\n",
      "Fidelidade do qubit 89 atualizada para 0.6294311855065851\n",
      "Fidelidade do qubit 29 atualizada para 0.7154060175846244\n",
      "Fidelidade do qubit 59 atualizada para 0.08263920466490354\n"
     ]
    },
    {
     "data": {
      "text/plain": [
       "False"
      ]
     },
     "execution_count": 11,
     "metadata": {},
     "output_type": "execute_result"
    }
   ],
   "source": [
    "rede.physical.echp_on_demand(2,5)"
   ]
  },
  {
   "cell_type": "markdown",
   "metadata": {},
   "source": [
    "##### Realiza-se, então, o segundo protocolo, on replay, que através da fidelidade inicial e da probabilidade de sucesso do on replay determina o sucesso do ECHP"
   ]
  },
  {
   "cell_type": "code",
   "execution_count": 12,
   "metadata": {},
   "outputs": [
    {
     "name": "stderr",
     "output_type": "stream",
     "text": [
      "2024-09-13 01:31:10,147: A fidelidade atualizada do qubit 28 após decoerência é 0.17715768863379658\n",
      "2024-09-13 01:31:10,148: A fidelidade atualizada do qubit 58 após decoerência é 0.3772390650570557\n",
      "2024-09-13 01:31:10,148: Timeslot 4: A probabilidade de sucesso do ECHP falhou.\n"
     ]
    },
    {
     "name": "stdout",
     "output_type": "stream",
     "text": [
      "Fidelidade do qubit 0 atualizada para 0.5327366129079715\n",
      "Fidelidade do qubit 1 atualizada para 0.5418228179814304\n",
      "Fidelidade do qubit 2 atualizada para 0.010790061117107234\n",
      "Fidelidade do qubit 3 atualizada para 0.40590708940913095\n",
      "Fidelidade do qubit 4 atualizada para 0.22428719828451352\n",
      "Fidelidade do qubit 5 atualizada para 0.5803892999673654\n",
      "Fidelidade do qubit 6 atualizada para 0.4647639458036472\n",
      "Fidelidade do qubit 7 atualizada para 0.1104057831399694\n",
      "Fidelidade do qubit 8 atualizada para 0.12489023660860522\n",
      "Fidelidade do qubit 9 atualizada para 0.2761276674254243\n",
      "Fidelidade do qubit 10 atualizada para 0.380167500601843\n",
      "Fidelidade do qubit 11 atualizada para 0.5576117367360299\n",
      "Fidelidade do qubit 12 atualizada para 0.6136709404735577\n",
      "Fidelidade do qubit 13 atualizada para 0.1910378517164687\n",
      "Fidelidade do qubit 14 atualizada para 0.44188355591880035\n",
      "Fidelidade do qubit 15 atualizada para 0.39962635192209683\n",
      "Fidelidade do qubit 16 atualizada para 0.38511293918444134\n",
      "Fidelidade do qubit 17 atualizada para 0.4558481168925339\n",
      "Fidelidade do qubit 18 atualizada para 0.3681803771946099\n",
      "Fidelidade do qubit 19 atualizada para 0.02748814394496815\n",
      "Fidelidade do qubit 20 atualizada para 0.356269977458949\n",
      "Fidelidade do qubit 21 atualizada para 0.49981473315058994\n",
      "Fidelidade do qubit 22 atualizada para 0.2240141455910326\n",
      "Fidelidade do qubit 23 atualizada para 0.24052753815483172\n",
      "Fidelidade do qubit 24 atualizada para 0.07671243645314202\n",
      "Fidelidade do qubit 25 atualizada para 0.21578883230472035\n",
      "Fidelidade do qubit 26 atualizada para 0.40196139264160297\n",
      "Fidelidade do qubit 27 atualizada para 0.19702106391554525\n",
      "Fidelidade do qubit 28 atualizada para 0.17894716023615817\n",
      "Fidelidade do qubit 30 atualizada para 0.3766350325957553\n",
      "Fidelidade do qubit 31 atualizada para 0.39661856989415695\n",
      "Fidelidade do qubit 32 atualizada para 0.592701625637378\n",
      "Fidelidade do qubit 33 atualizada para 0.1614784955922768\n",
      "Fidelidade do qubit 34 atualizada para 0.032090474873358484\n",
      "Fidelidade do qubit 35 atualizada para 0.3683477926549026\n",
      "Fidelidade do qubit 36 atualizada para 0.41290153065494434\n",
      "Fidelidade do qubit 37 atualizada para 0.2544319270401025\n",
      "Fidelidade do qubit 38 atualizada para 0.5382920449249923\n",
      "Fidelidade do qubit 40 atualizada para 0.40871920635799897\n",
      "Fidelidade do qubit 41 atualizada para 0.4315757023425527\n",
      "Fidelidade do qubit 42 atualizada para 0.00521293393240084\n",
      "Fidelidade do qubit 43 atualizada para 0.31800004914539304\n",
      "Fidelidade do qubit 44 atualizada para 0.25312267896166546\n",
      "Fidelidade do qubit 45 atualizada para 0.1915942962160261\n",
      "Fidelidade do qubit 46 atualizada para 0.11684092723624992\n",
      "Fidelidade do qubit 47 atualizada para 0.17430650710999404\n",
      "Fidelidade do qubit 48 atualizada para 0.6434034315174683\n",
      "Fidelidade do qubit 49 atualizada para 0.1276376785474089\n",
      "Fidelidade do qubit 50 atualizada para 0.48590987136171143\n",
      "Fidelidade do qubit 51 atualizada para 0.010782744306290495\n",
      "Fidelidade do qubit 52 atualizada para 0.16509175144368246\n",
      "Fidelidade do qubit 53 atualizada para 0.018598238804091727\n",
      "Fidelidade do qubit 54 atualizada para 0.1959411794086347\n",
      "Fidelidade do qubit 55 atualizada para 0.22448046635969227\n",
      "Fidelidade do qubit 56 atualizada para 0.550810445821782\n",
      "Fidelidade do qubit 57 atualizada para 0.10560926027533385\n",
      "Fidelidade do qubit 58 atualizada para 0.3810495606636926\n",
      "Fidelidade do qubit 60 atualizada para 0.3560702805253857\n",
      "Fidelidade do qubit 61 atualizada para 0.04708459593774498\n",
      "Fidelidade do qubit 62 atualizada para 0.09649799880717881\n",
      "Fidelidade do qubit 63 atualizada para 0.07306426179260159\n",
      "Fidelidade do qubit 64 atualizada para 0.25404447515944956\n",
      "Fidelidade do qubit 65 atualizada para 0.2924675227213881\n",
      "Fidelidade do qubit 66 atualizada para 0.31827654260982546\n",
      "Fidelidade do qubit 67 atualizada para 0.60546141123009\n",
      "Fidelidade do qubit 68 atualizada para 0.3737392049624347\n",
      "Fidelidade do qubit 69 atualizada para 0.5979178595563821\n",
      "Fidelidade do qubit 70 atualizada para 0.5236576237812405\n",
      "Fidelidade do qubit 71 atualizada para 0.21999568023840865\n",
      "Fidelidade do qubit 72 atualizada para 0.3676723769798291\n",
      "Fidelidade do qubit 73 atualizada para 0.020319604289540886\n",
      "Fidelidade do qubit 74 atualizada para 0.3778516914559069\n",
      "Fidelidade do qubit 75 atualizada para 0.5781732058563559\n",
      "Fidelidade do qubit 76 atualizada para 0.44111614884035677\n",
      "Fidelidade do qubit 77 atualizada para 0.4965383031344306\n",
      "Fidelidade do qubit 78 atualizada para 0.22578427357322628\n",
      "Fidelidade do qubit 79 atualizada para 0.20429920538163227\n",
      "Fidelidade do qubit 80 atualizada para 0.5858760819485996\n",
      "Fidelidade do qubit 81 atualizada para 0.4927460586234054\n",
      "Fidelidade do qubit 82 atualizada para 0.6173349918461134\n",
      "Fidelidade do qubit 83 atualizada para 0.4647653004710686\n",
      "Fidelidade do qubit 84 atualizada para 0.19533969052678235\n",
      "Fidelidade do qubit 85 atualizada para 0.5853423676601415\n",
      "Fidelidade do qubit 86 atualizada para 0.059211097435711464\n",
      "Fidelidade do qubit 87 atualizada para 0.5635741734395345\n",
      "Fidelidade do qubit 88 atualizada para 0.3043844921511746\n",
      "Fidelidade do qubit 89 atualizada para 0.5664880669559266\n",
      "Fidelidade do qubit 28 atualizada para 0.17715768863379658\n",
      "Fidelidade do qubit 58 atualizada para 0.3772390650570557\n"
     ]
    },
    {
     "data": {
      "text/plain": [
       "False"
      ]
     },
     "execution_count": 12,
     "metadata": {},
     "output_type": "execute_result"
    }
   ],
   "source": [
    "rede.physical.echp_on_replay(2,5)"
   ]
  },
  {
   "cell_type": "code",
   "execution_count": 13,
   "metadata": {},
   "outputs": [
    {
     "name": "stderr",
     "output_type": "stream",
     "text": [
      "2024-09-13 01:31:10,162: Eprs usados na camada PhysicalLayer: 1\n",
      "2024-09-13 01:31:10,162: Eprs usados na camada LinkLayer: 0\n",
      "2024-09-13 01:31:10,163: Eprs usados na camada NetworkLayer: 0\n"
     ]
    },
    {
     "data": {
      "text/plain": [
       "1"
      ]
     },
     "execution_count": 13,
     "metadata": {},
     "output_type": "execute_result"
    }
   ],
   "source": [
    "rede.get_total_useds_eprs()"
   ]
  },
  {
   "cell_type": "code",
   "execution_count": 14,
   "metadata": {},
   "outputs": [
    {
     "name": "stderr",
     "output_type": "stream",
     "text": [
      "2024-09-13 01:31:10,170: Qubits usados na camada PhysicalLayer: 6\n",
      "2024-09-13 01:31:10,171: Qubits usados na camada LinkLayer: 0\n",
      "2024-09-13 01:31:10,171: Qubits usados na camada TransportLayer: 0\n",
      "2024-09-13 01:31:10,172: Qubits usados na camada ApplicationLayer: 0\n"
     ]
    },
    {
     "data": {
      "text/plain": [
       "6"
      ]
     },
     "execution_count": 14,
     "metadata": {},
     "output_type": "execute_result"
    }
   ],
   "source": [
    "rede.get_total_useds_qubits()"
   ]
  },
  {
   "cell_type": "markdown",
   "metadata": {},
   "source": [
    "##### Acessando o canal que mostra as probablidades e os pares eprs\n"
   ]
  },
  {
   "cell_type": "code",
   "execution_count": 15,
   "metadata": {},
   "outputs": [
    {
     "data": {
      "text/plain": [
       "{'prob_on_demand_epr_create': 0.5353604667958101,\n",
       " 'prob_replay_epr_create': 0.3513550047298254,\n",
       " 'eprs': [<quantumnet.objects.epr.Epr at 0x131d14dc3b0>,\n",
       "  <quantumnet.objects.epr.Epr at 0x131d14f4470>,\n",
       "  <quantumnet.objects.epr.Epr at 0x131d14dca10>,\n",
       "  <quantumnet.objects.epr.Epr at 0x131d14dc9b0>,\n",
       "  <quantumnet.objects.epr.Epr at 0x131d14f4890>,\n",
       "  <quantumnet.objects.epr.Epr at 0x131d14dc7a0>,\n",
       "  <quantumnet.objects.epr.Epr at 0x131d139cad0>,\n",
       "  <quantumnet.objects.epr.Epr at 0x131d14dca70>,\n",
       "  <quantumnet.objects.epr.Epr at 0x131d14dcce0>,\n",
       "  <quantumnet.objects.epr.Epr at 0x131d14f4aa0>]}"
      ]
     },
     "execution_count": 15,
     "metadata": {},
     "output_type": "execute_result"
    }
   ],
   "source": [
    "rede.edges[2,5]"
   ]
  },
  {
   "cell_type": "markdown",
   "metadata": {},
   "source": [
    "##### Acessando o dicionario que contém os pares eprs alocados\n"
   ]
  },
  {
   "cell_type": "code",
   "execution_count": 16,
   "metadata": {},
   "outputs": [
    {
     "data": {
      "text/plain": [
       "{(0, 3): [<quantumnet.objects.epr.Epr at 0x131d14debd0>,\n",
       "  <quantumnet.objects.epr.Epr at 0x131d14b6450>,\n",
       "  <quantumnet.objects.epr.Epr at 0x131d14b7200>,\n",
       "  <quantumnet.objects.epr.Epr at 0x131d14b71a0>,\n",
       "  <quantumnet.objects.epr.Epr at 0x131d0f4f2c0>,\n",
       "  <quantumnet.objects.epr.Epr at 0x131d14b73b0>,\n",
       "  <quantumnet.objects.epr.Epr at 0x131d14b71d0>,\n",
       "  <quantumnet.objects.epr.Epr at 0x131d14b7260>,\n",
       "  <quantumnet.objects.epr.Epr at 0x131d14b7380>,\n",
       "  <quantumnet.objects.epr.Epr at 0x131d14b7470>],\n",
       " (0, 1): [<quantumnet.objects.epr.Epr at 0x131d13bf710>,\n",
       "  <quantumnet.objects.epr.Epr at 0x131d14b74d0>,\n",
       "  <quantumnet.objects.epr.Epr at 0x131d14b7560>,\n",
       "  <quantumnet.objects.epr.Epr at 0x131d14b7650>,\n",
       "  <quantumnet.objects.epr.Epr at 0x131d14b7800>,\n",
       "  <quantumnet.objects.epr.Epr at 0x131d14b77a0>,\n",
       "  <quantumnet.objects.epr.Epr at 0x131d14b7950>,\n",
       "  <quantumnet.objects.epr.Epr at 0x131d14b7830>,\n",
       "  <quantumnet.objects.epr.Epr at 0x131d14b7aa0>,\n",
       "  <quantumnet.objects.epr.Epr at 0x131d14b7a10>],\n",
       " (1, 4): [<quantumnet.objects.epr.Epr at 0x131d14df140>,\n",
       "  <quantumnet.objects.epr.Epr at 0x131d14b7770>,\n",
       "  <quantumnet.objects.epr.Epr at 0x131d113bfb0>,\n",
       "  <quantumnet.objects.epr.Epr at 0x131d14df0b0>,\n",
       "  <quantumnet.objects.epr.Epr at 0x131d14b7bf0>,\n",
       "  <quantumnet.objects.epr.Epr at 0x131d14b7d10>,\n",
       "  <quantumnet.objects.epr.Epr at 0x131d14dfb90>,\n",
       "  <quantumnet.objects.epr.Epr at 0x131d14b7d40>,\n",
       "  <quantumnet.objects.epr.Epr at 0x131d14b7e60>,\n",
       "  <quantumnet.objects.epr.Epr at 0x131d14dfe30>],\n",
       " (1, 2): [<quantumnet.objects.epr.Epr at 0x131d14dffe0>,\n",
       "  <quantumnet.objects.epr.Epr at 0x131d14df9e0>,\n",
       "  <quantumnet.objects.epr.Epr at 0x131d14dff80>,\n",
       "  <quantumnet.objects.epr.Epr at 0x131d14dc110>,\n",
       "  <quantumnet.objects.epr.Epr at 0x131d139c2f0>,\n",
       "  <quantumnet.objects.epr.Epr at 0x131d14dc0b0>,\n",
       "  <quantumnet.objects.epr.Epr at 0x131d14dc2c0>,\n",
       "  <quantumnet.objects.epr.Epr at 0x131d14b7da0>,\n",
       "  <quantumnet.objects.epr.Epr at 0x131d14dc440>,\n",
       "  <quantumnet.objects.epr.Epr at 0x131d14dc710>],\n",
       " (2, 5): [<quantumnet.objects.epr.Epr at 0x131d14dc3b0>,\n",
       "  <quantumnet.objects.epr.Epr at 0x131d14f4470>,\n",
       "  <quantumnet.objects.epr.Epr at 0x131d14dca10>,\n",
       "  <quantumnet.objects.epr.Epr at 0x131d14dc9b0>,\n",
       "  <quantumnet.objects.epr.Epr at 0x131d14f4890>,\n",
       "  <quantumnet.objects.epr.Epr at 0x131d14dc7a0>,\n",
       "  <quantumnet.objects.epr.Epr at 0x131d139cad0>,\n",
       "  <quantumnet.objects.epr.Epr at 0x131d14dca70>,\n",
       "  <quantumnet.objects.epr.Epr at 0x131d14dcce0>,\n",
       "  <quantumnet.objects.epr.Epr at 0x131d14f4aa0>],\n",
       " (3, 6): [<quantumnet.objects.epr.Epr at 0x131d14f4830>,\n",
       "  <quantumnet.objects.epr.Epr at 0x131d14b5040>,\n",
       "  <quantumnet.objects.epr.Epr at 0x131d14dd100>,\n",
       "  <quantumnet.objects.epr.Epr at 0x131d14dd070>,\n",
       "  <quantumnet.objects.epr.Epr at 0x131d14b5250>,\n",
       "  <quantumnet.objects.epr.Epr at 0x131d14f4b90>,\n",
       "  <quantumnet.objects.epr.Epr at 0x131d14dd3a0>,\n",
       "  <quantumnet.objects.epr.Epr at 0x131d14dd310>,\n",
       "  <quantumnet.objects.epr.Epr at 0x131d14dcfb0>,\n",
       "  <quantumnet.objects.epr.Epr at 0x131d14b5490>,\n",
       "  <quantumnet.objects.epr.Epr at 0x131d11103e0>],\n",
       " (3, 4): [<quantumnet.objects.epr.Epr at 0x131d14dd1c0>,\n",
       "  <quantumnet.objects.epr.Epr at 0x131d14dd2e0>,\n",
       "  <quantumnet.objects.epr.Epr at 0x131d14b51f0>,\n",
       "  <quantumnet.objects.epr.Epr at 0x131d14dd610>,\n",
       "  <quantumnet.objects.epr.Epr at 0x131d14b57c0>,\n",
       "  <quantumnet.objects.epr.Epr at 0x131d14dd910>,\n",
       "  <quantumnet.objects.epr.Epr at 0x131d14dd5b0>,\n",
       "  <quantumnet.objects.epr.Epr at 0x131d14f5850>,\n",
       "  <quantumnet.objects.epr.Epr at 0x131d14ddaf0>,\n",
       "  <quantumnet.objects.epr.Epr at 0x131d14f5430>],\n",
       " (4, 7): [<quantumnet.objects.epr.Epr at 0x131d14f4f20>,\n",
       "  <quantumnet.objects.epr.Epr at 0x131d14b5ca0>,\n",
       "  <quantumnet.objects.epr.Epr at 0x131d14ddd30>,\n",
       "  <quantumnet.objects.epr.Epr at 0x131d14f5b80>,\n",
       "  <quantumnet.objects.epr.Epr at 0x131d14dde80>,\n",
       "  <quantumnet.objects.epr.Epr at 0x131d14f5d00>,\n",
       "  <quantumnet.objects.epr.Epr at 0x131d14dde20>,\n",
       "  <quantumnet.objects.epr.Epr at 0x131d14ddac0>,\n",
       "  <quantumnet.objects.epr.Epr at 0x131d14f5a00>,\n",
       "  <quantumnet.objects.epr.Epr at 0x131d14de060>],\n",
       " (4, 5): [<quantumnet.objects.epr.Epr at 0x131d14de090>,\n",
       "  <quantumnet.objects.epr.Epr at 0x131d14f5fd0>,\n",
       "  <quantumnet.objects.epr.Epr at 0x131d14b5be0>,\n",
       "  <quantumnet.objects.epr.Epr at 0x131d14de240>,\n",
       "  <quantumnet.objects.epr.Epr at 0x131d14de420>,\n",
       "  <quantumnet.objects.epr.Epr at 0x131d14de4b0>,\n",
       "  <quantumnet.objects.epr.Epr at 0x131d14de3f0>,\n",
       "  <quantumnet.objects.epr.Epr at 0x131d14de2a0>,\n",
       "  <quantumnet.objects.epr.Epr at 0x131d14f6390>,\n",
       "  <quantumnet.objects.epr.Epr at 0x131d14b6270>],\n",
       " (5, 8): [<quantumnet.objects.epr.Epr at 0x131d14de7b0>,\n",
       "  <quantumnet.objects.epr.Epr at 0x131d14b6840>,\n",
       "  <quantumnet.objects.epr.Epr at 0x131d14de780>,\n",
       "  <quantumnet.objects.epr.Epr at 0x131d14b6960>,\n",
       "  <quantumnet.objects.epr.Epr at 0x131d14b69f0>,\n",
       "  <quantumnet.objects.epr.Epr at 0x131d14de9c0>,\n",
       "  <quantumnet.objects.epr.Epr at 0x131d14b6ae0>,\n",
       "  <quantumnet.objects.epr.Epr at 0x131d14b6b10>,\n",
       "  <quantumnet.objects.epr.Epr at 0x131d14dec60>,\n",
       "  <quantumnet.objects.epr.Epr at 0x131d14decf0>],\n",
       " (6, 7): [<quantumnet.objects.epr.Epr at 0x131d14de360>,\n",
       "  <quantumnet.objects.epr.Epr at 0x131d14dee10>,\n",
       "  <quantumnet.objects.epr.Epr at 0x131d14b6ea0>,\n",
       "  <quantumnet.objects.epr.Epr at 0x131d14b6bd0>,\n",
       "  <quantumnet.objects.epr.Epr at 0x131d14defc0>,\n",
       "  <quantumnet.objects.epr.Epr at 0x131d14b7050>,\n",
       "  <quantumnet.objects.epr.Epr at 0x131d14dedb0>,\n",
       "  <quantumnet.objects.epr.Epr at 0x131d14de8a0>,\n",
       "  <quantumnet.objects.epr.Epr at 0x131d14b7140>,\n",
       "  <quantumnet.objects.epr.Epr at 0x131d0f4ef60>],\n",
       " (7, 8): [<quantumnet.objects.epr.Epr at 0x131d14dec30>,\n",
       "  <quantumnet.objects.epr.Epr at 0x131d14df1d0>,\n",
       "  <quantumnet.objects.epr.Epr at 0x131d14df380>,\n",
       "  <quantumnet.objects.epr.Epr at 0x131d14f7110>,\n",
       "  <quantumnet.objects.epr.Epr at 0x131d14df0e0>,\n",
       "  <quantumnet.objects.epr.Epr at 0x131d14b7290>,\n",
       "  <quantumnet.objects.epr.Epr at 0x131d14f73b0>,\n",
       "  <quantumnet.objects.epr.Epr at 0x131d14df650>,\n",
       "  <quantumnet.objects.epr.Epr at 0x131d14df590>,\n",
       "  <quantumnet.objects.epr.Epr at 0x131d14f6f90>]}"
      ]
     },
     "execution_count": 16,
     "metadata": {},
     "output_type": "execute_result"
    }
   ],
   "source": [
    "rede.get_eprs()"
   ]
  },
  {
   "cell_type": "code",
   "execution_count": 17,
   "metadata": {},
   "outputs": [
    {
     "data": {
      "text/plain": [
       "4"
      ]
     },
     "execution_count": 17,
     "metadata": {},
     "output_type": "execute_result"
    }
   ],
   "source": [
    "rede.get_timeslot()"
   ]
  }
 ],
 "metadata": {
  "kernelspec": {
   "display_name": "Python 3",
   "language": "python",
   "name": "python3"
  },
  "language_info": {
   "codemirror_mode": {
    "name": "ipython",
    "version": 3
   },
   "file_extension": ".py",
   "mimetype": "text/x-python",
   "name": "python",
   "nbconvert_exporter": "python",
   "pygments_lexer": "ipython3",
   "version": "3.12.1"
  }
 },
 "nbformat": 4,
 "nbformat_minor": 2
}
