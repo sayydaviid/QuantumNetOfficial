{
 "cells": [
  {
   "cell_type": "markdown",
   "metadata": {},
   "source": [
    "## Guia da Camada Física\n",
    "##### O documento tem o objetivo de demostrar o funcionamento da camada física, além de suas funções e ferramentas."
   ]
  },
  {
   "cell_type": "code",
   "execution_count": 1,
   "metadata": {},
   "outputs": [],
   "source": [
    "from quantumnet.components import Network, Host\n",
    "from quantumnet.objects import Qubit, Logger\n",
    "import random\n",
    "Logger.activate(Logger)"
   ]
  },
  {
   "cell_type": "markdown",
   "metadata": {},
   "source": [
    "##### Será instaciada a rede e definida a topologia de Grade"
   ]
  },
  {
   "cell_type": "code",
   "execution_count": 2,
   "metadata": {},
   "outputs": [
    {
     "name": "stderr",
     "output_type": "stream",
     "text": [
      "2024-09-13 01:37:40,259: Qubit 0 adicionado à memória do Host 0.\n",
      "2024-09-13 01:37:40,259: Qubit 0 criado com fidelidade inicial 0.20599032073648493 e adicionado à memória do Host 0.\n",
      "2024-09-13 01:37:40,259: Qubit 1 adicionado à memória do Host 0.\n",
      "2024-09-13 01:37:40,259: Qubit 1 criado com fidelidade inicial 0.23076270959287892 e adicionado à memória do Host 0.\n",
      "2024-09-13 01:37:40,259: Qubit 2 adicionado à memória do Host 0.\n",
      "2024-09-13 01:37:40,261: Qubit 2 criado com fidelidade inicial 0.200447077576703 e adicionado à memória do Host 0.\n",
      "2024-09-13 01:37:40,261: Qubit 3 adicionado à memória do Host 0.\n",
      "2024-09-13 01:37:40,262: Qubit 3 criado com fidelidade inicial 0.7761188852507603 e adicionado à memória do Host 0.\n",
      "2024-09-13 01:37:40,262: Qubit 4 adicionado à memória do Host 0.\n",
      "2024-09-13 01:37:40,262: Qubit 4 criado com fidelidade inicial 0.9461634897764484 e adicionado à memória do Host 0.\n",
      "2024-09-13 01:37:40,263: Qubit 5 adicionado à memória do Host 0.\n",
      "2024-09-13 01:37:40,263: Qubit 5 criado com fidelidade inicial 0.8604601942361183 e adicionado à memória do Host 0.\n",
      "2024-09-13 01:37:40,263: Qubit 6 adicionado à memória do Host 0.\n",
      "2024-09-13 01:37:40,264: Qubit 6 criado com fidelidade inicial 0.13650908603824063 e adicionado à memória do Host 0.\n",
      "2024-09-13 01:37:40,264: Qubit 7 adicionado à memória do Host 0.\n",
      "2024-09-13 01:37:40,264: Qubit 7 criado com fidelidade inicial 0.39109373241338363 e adicionado à memória do Host 0.\n",
      "2024-09-13 01:37:40,265: Qubit 8 adicionado à memória do Host 0.\n",
      "2024-09-13 01:37:40,265: Qubit 8 criado com fidelidade inicial 0.5765849263730106 e adicionado à memória do Host 0.\n",
      "2024-09-13 01:37:40,265: Qubit 9 adicionado à memória do Host 0.\n",
      "2024-09-13 01:37:40,266: Qubit 9 criado com fidelidade inicial 0.8013005978948214 e adicionado à memória do Host 0.\n",
      "2024-09-13 01:37:40,266: Qubit 10 adicionado à memória do Host 1.\n",
      "2024-09-13 01:37:40,266: Qubit 10 criado com fidelidade inicial 0.2722453804535644 e adicionado à memória do Host 1.\n",
      "2024-09-13 01:37:40,266: Qubit 11 adicionado à memória do Host 1.\n",
      "2024-09-13 01:37:40,268: Qubit 11 criado com fidelidade inicial 0.09797984199423715 e adicionado à memória do Host 1.\n",
      "2024-09-13 01:37:40,268: Qubit 12 adicionado à memória do Host 1.\n",
      "2024-09-13 01:37:40,268: Qubit 12 criado com fidelidade inicial 0.8081177769756395 e adicionado à memória do Host 1.\n",
      "2024-09-13 01:37:40,269: Qubit 13 adicionado à memória do Host 1.\n",
      "2024-09-13 01:37:40,269: Qubit 13 criado com fidelidade inicial 0.8757783954003808 e adicionado à memória do Host 1.\n",
      "2024-09-13 01:37:40,269: Qubit 14 adicionado à memória do Host 1.\n",
      "2024-09-13 01:37:40,270: Qubit 14 criado com fidelidade inicial 0.28360305368588523 e adicionado à memória do Host 1.\n",
      "2024-09-13 01:37:40,270: Qubit 15 adicionado à memória do Host 1.\n",
      "2024-09-13 01:37:40,271: Qubit 15 criado com fidelidade inicial 0.848702095179308 e adicionado à memória do Host 1.\n",
      "2024-09-13 01:37:40,271: Qubit 16 adicionado à memória do Host 1.\n",
      "2024-09-13 01:37:40,271: Qubit 16 criado com fidelidade inicial 0.14219748519283337 e adicionado à memória do Host 1.\n",
      "2024-09-13 01:37:40,272: Qubit 17 adicionado à memória do Host 1.\n",
      "2024-09-13 01:37:40,272: Qubit 17 criado com fidelidade inicial 0.9304097256841691 e adicionado à memória do Host 1.\n",
      "2024-09-13 01:37:40,272: Qubit 18 adicionado à memória do Host 1.\n",
      "2024-09-13 01:37:40,272: Qubit 18 criado com fidelidade inicial 0.8151276364592971 e adicionado à memória do Host 1.\n",
      "2024-09-13 01:37:40,273: Qubit 19 adicionado à memória do Host 1.\n",
      "2024-09-13 01:37:40,273: Qubit 19 criado com fidelidade inicial 0.9554283121205022 e adicionado à memória do Host 1.\n",
      "2024-09-13 01:37:40,273: Qubit 20 adicionado à memória do Host 2.\n",
      "2024-09-13 01:37:40,274: Qubit 20 criado com fidelidade inicial 0.7787254187749648 e adicionado à memória do Host 2.\n",
      "2024-09-13 01:37:40,274: Qubit 21 adicionado à memória do Host 2.\n",
      "2024-09-13 01:37:40,274: Qubit 21 criado com fidelidade inicial 0.4945743239135314 e adicionado à memória do Host 2.\n",
      "2024-09-13 01:37:40,275: Qubit 22 adicionado à memória do Host 2.\n",
      "2024-09-13 01:37:40,275: Qubit 22 criado com fidelidade inicial 0.675045409469913 e adicionado à memória do Host 2.\n",
      "2024-09-13 01:37:40,275: Qubit 23 adicionado à memória do Host 2.\n",
      "2024-09-13 01:37:40,276: Qubit 23 criado com fidelidade inicial 0.8156182779434619 e adicionado à memória do Host 2.\n",
      "2024-09-13 01:37:40,276: Qubit 24 adicionado à memória do Host 2.\n",
      "2024-09-13 01:37:40,276: Qubit 24 criado com fidelidade inicial 0.23639332374957667 e adicionado à memória do Host 2.\n",
      "2024-09-13 01:37:40,277: Qubit 25 adicionado à memória do Host 2.\n",
      "2024-09-13 01:37:40,277: Qubit 25 criado com fidelidade inicial 0.7438158753546353 e adicionado à memória do Host 2.\n",
      "2024-09-13 01:37:40,277: Qubit 26 adicionado à memória do Host 2.\n",
      "2024-09-13 01:37:40,278: Qubit 26 criado com fidelidade inicial 0.03490731999053165 e adicionado à memória do Host 2.\n",
      "2024-09-13 01:37:40,278: Qubit 27 adicionado à memória do Host 2.\n",
      "2024-09-13 01:37:40,278: Qubit 27 criado com fidelidade inicial 0.48210834369117184 e adicionado à memória do Host 2.\n",
      "2024-09-13 01:37:40,279: Qubit 28 adicionado à memória do Host 2.\n",
      "2024-09-13 01:37:40,279: Qubit 28 criado com fidelidade inicial 0.22162434893393912 e adicionado à memória do Host 2.\n",
      "2024-09-13 01:37:40,279: Qubit 29 adicionado à memória do Host 2.\n",
      "2024-09-13 01:37:40,281: Qubit 29 criado com fidelidade inicial 0.29205838083337765 e adicionado à memória do Host 2.\n",
      "2024-09-13 01:37:40,281: Qubit 30 adicionado à memória do Host 3.\n",
      "2024-09-13 01:37:40,281: Qubit 30 criado com fidelidade inicial 0.9406969671362376 e adicionado à memória do Host 3.\n",
      "2024-09-13 01:37:40,281: Qubit 31 adicionado à memória do Host 3.\n",
      "2024-09-13 01:37:40,282: Qubit 31 criado com fidelidade inicial 0.681572986442527 e adicionado à memória do Host 3.\n",
      "2024-09-13 01:37:40,282: Qubit 32 adicionado à memória do Host 3.\n",
      "2024-09-13 01:37:40,282: Qubit 32 criado com fidelidade inicial 0.03573278450244943 e adicionado à memória do Host 3.\n",
      "2024-09-13 01:37:40,284: Qubit 33 adicionado à memória do Host 3.\n",
      "2024-09-13 01:37:40,284: Qubit 33 criado com fidelidade inicial 0.6727034177658248 e adicionado à memória do Host 3.\n",
      "2024-09-13 01:37:40,284: Qubit 34 adicionado à memória do Host 3.\n",
      "2024-09-13 01:37:40,285: Qubit 34 criado com fidelidade inicial 0.9960815342098905 e adicionado à memória do Host 3.\n",
      "2024-09-13 01:37:40,285: Qubit 35 adicionado à memória do Host 3.\n",
      "2024-09-13 01:37:40,285: Qubit 35 criado com fidelidade inicial 0.4793796969019378 e adicionado à memória do Host 3.\n",
      "2024-09-13 01:37:40,286: Qubit 36 adicionado à memória do Host 3.\n",
      "2024-09-13 01:37:40,286: Qubit 36 criado com fidelidade inicial 0.4146802277280448 e adicionado à memória do Host 3.\n",
      "2024-09-13 01:37:40,286: Qubit 37 adicionado à memória do Host 3.\n",
      "2024-09-13 01:37:40,287: Qubit 37 criado com fidelidade inicial 0.3536909608018679 e adicionado à memória do Host 3.\n",
      "2024-09-13 01:37:40,287: Qubit 38 adicionado à memória do Host 3.\n",
      "2024-09-13 01:37:40,287: Qubit 38 criado com fidelidade inicial 0.23561673733298694 e adicionado à memória do Host 3.\n",
      "2024-09-13 01:37:40,288: Qubit 39 adicionado à memória do Host 3.\n",
      "2024-09-13 01:37:40,288: Qubit 39 criado com fidelidade inicial 0.2576828149925735 e adicionado à memória do Host 3.\n",
      "2024-09-13 01:37:40,289: Qubit 40 adicionado à memória do Host 4.\n",
      "2024-09-13 01:37:40,289: Qubit 40 criado com fidelidade inicial 0.9701146643375098 e adicionado à memória do Host 4.\n",
      "2024-09-13 01:37:40,289: Qubit 41 adicionado à memória do Host 4.\n",
      "2024-09-13 01:37:40,290: Qubit 41 criado com fidelidade inicial 0.47233842237684087 e adicionado à memória do Host 4.\n",
      "2024-09-13 01:37:40,290: Qubit 42 adicionado à memória do Host 4.\n",
      "2024-09-13 01:37:40,291: Qubit 42 criado com fidelidade inicial 0.263014129859519 e adicionado à memória do Host 4.\n",
      "2024-09-13 01:37:40,291: Qubit 43 adicionado à memória do Host 4.\n",
      "2024-09-13 01:37:40,292: Qubit 43 criado com fidelidade inicial 0.6631443702516792 e adicionado à memória do Host 4.\n",
      "2024-09-13 01:37:40,292: Qubit 44 adicionado à memória do Host 4.\n",
      "2024-09-13 01:37:40,292: Qubit 44 criado com fidelidade inicial 0.22827484760181016 e adicionado à memória do Host 4.\n",
      "2024-09-13 01:37:40,294: Qubit 45 adicionado à memória do Host 4.\n",
      "2024-09-13 01:37:40,294: Qubit 45 criado com fidelidade inicial 0.5312639254810056 e adicionado à memória do Host 4.\n",
      "2024-09-13 01:37:40,295: Qubit 46 adicionado à memória do Host 4.\n",
      "2024-09-13 01:37:40,295: Qubit 46 criado com fidelidade inicial 0.06815057162583993 e adicionado à memória do Host 4.\n",
      "2024-09-13 01:37:40,295: Qubit 47 adicionado à memória do Host 4.\n",
      "2024-09-13 01:37:40,296: Qubit 47 criado com fidelidade inicial 0.11566119144023412 e adicionado à memória do Host 4.\n",
      "2024-09-13 01:37:40,296: Qubit 48 adicionado à memória do Host 4.\n",
      "2024-09-13 01:37:40,297: Qubit 48 criado com fidelidade inicial 0.7499580251730438 e adicionado à memória do Host 4.\n",
      "2024-09-13 01:37:40,297: Qubit 49 adicionado à memória do Host 4.\n",
      "2024-09-13 01:37:40,298: Qubit 49 criado com fidelidade inicial 0.42540125256658035 e adicionado à memória do Host 4.\n",
      "2024-09-13 01:37:40,298: Qubit 50 adicionado à memória do Host 5.\n",
      "2024-09-13 01:37:40,298: Qubit 50 criado com fidelidade inicial 0.23863686997127687 e adicionado à memória do Host 5.\n",
      "2024-09-13 01:37:40,299: Qubit 51 adicionado à memória do Host 5.\n",
      "2024-09-13 01:37:40,299: Qubit 51 criado com fidelidade inicial 0.7613236378338939 e adicionado à memória do Host 5.\n",
      "2024-09-13 01:37:40,300: Qubit 52 adicionado à memória do Host 5.\n",
      "2024-09-13 01:37:40,300: Qubit 52 criado com fidelidade inicial 0.7037016377625618 e adicionado à memória do Host 5.\n",
      "2024-09-13 01:37:40,300: Qubit 53 adicionado à memória do Host 5.\n",
      "2024-09-13 01:37:40,301: Qubit 53 criado com fidelidade inicial 0.2653002538579179 e adicionado à memória do Host 5.\n",
      "2024-09-13 01:37:40,301: Qubit 54 adicionado à memória do Host 5.\n",
      "2024-09-13 01:37:40,302: Qubit 54 criado com fidelidade inicial 0.28556640979090653 e adicionado à memória do Host 5.\n",
      "2024-09-13 01:37:40,303: Qubit 55 adicionado à memória do Host 5.\n",
      "2024-09-13 01:37:40,303: Qubit 55 criado com fidelidade inicial 0.5853040156538313 e adicionado à memória do Host 5.\n",
      "2024-09-13 01:37:40,304: Qubit 56 adicionado à memória do Host 5.\n",
      "2024-09-13 01:37:40,304: Qubit 56 criado com fidelidade inicial 0.6855267567586318 e adicionado à memória do Host 5.\n",
      "2024-09-13 01:37:40,305: Qubit 57 adicionado à memória do Host 5.\n",
      "2024-09-13 01:37:40,305: Qubit 57 criado com fidelidade inicial 0.18413720824763846 e adicionado à memória do Host 5.\n",
      "2024-09-13 01:37:40,306: Qubit 58 adicionado à memória do Host 5.\n",
      "2024-09-13 01:37:40,306: Qubit 58 criado com fidelidade inicial 0.1047726842188974 e adicionado à memória do Host 5.\n",
      "2024-09-13 01:37:40,306: Qubit 59 adicionado à memória do Host 5.\n",
      "2024-09-13 01:37:40,307: Qubit 59 criado com fidelidade inicial 0.6465193769552796 e adicionado à memória do Host 5.\n",
      "2024-09-13 01:37:40,307: Qubit 60 adicionado à memória do Host 6.\n",
      "2024-09-13 01:37:40,307: Qubit 60 criado com fidelidade inicial 0.18604949970492968 e adicionado à memória do Host 6.\n",
      "2024-09-13 01:37:40,308: Qubit 61 adicionado à memória do Host 6.\n",
      "2024-09-13 01:37:40,308: Qubit 61 criado com fidelidade inicial 0.9137337204837926 e adicionado à memória do Host 6.\n",
      "2024-09-13 01:37:40,308: Qubit 62 adicionado à memória do Host 6.\n",
      "2024-09-13 01:37:40,309: Qubit 62 criado com fidelidade inicial 0.5219933652839488 e adicionado à memória do Host 6.\n",
      "2024-09-13 01:37:40,309: Qubit 63 adicionado à memória do Host 6.\n",
      "2024-09-13 01:37:40,310: Qubit 63 criado com fidelidade inicial 0.8424175472158751 e adicionado à memória do Host 6.\n",
      "2024-09-13 01:37:40,310: Qubit 64 adicionado à memória do Host 6.\n",
      "2024-09-13 01:37:40,310: Qubit 64 criado com fidelidade inicial 0.20654273066347806 e adicionado à memória do Host 6.\n",
      "2024-09-13 01:37:40,311: Qubit 65 adicionado à memória do Host 6.\n",
      "2024-09-13 01:37:40,311: Qubit 65 criado com fidelidade inicial 0.7147010206203314 e adicionado à memória do Host 6.\n",
      "2024-09-13 01:37:40,311: Qubit 66 adicionado à memória do Host 6.\n",
      "2024-09-13 01:37:40,312: Qubit 66 criado com fidelidade inicial 0.6652659232537307 e adicionado à memória do Host 6.\n",
      "2024-09-13 01:37:40,312: Qubit 67 adicionado à memória do Host 6.\n",
      "2024-09-13 01:37:40,312: Qubit 67 criado com fidelidade inicial 0.4889528464642945 e adicionado à memória do Host 6.\n",
      "2024-09-13 01:37:40,313: Qubit 68 adicionado à memória do Host 6.\n",
      "2024-09-13 01:37:40,313: Qubit 68 criado com fidelidade inicial 0.4710965880240313 e adicionado à memória do Host 6.\n",
      "2024-09-13 01:37:40,313: Qubit 69 adicionado à memória do Host 6.\n",
      "2024-09-13 01:37:40,313: Qubit 69 criado com fidelidade inicial 0.8057141640412178 e adicionado à memória do Host 6.\n",
      "2024-09-13 01:37:40,314: Qubit 70 adicionado à memória do Host 7.\n",
      "2024-09-13 01:37:40,314: Qubit 70 criado com fidelidade inicial 0.8696445070583455 e adicionado à memória do Host 7.\n",
      "2024-09-13 01:37:40,315: Qubit 71 adicionado à memória do Host 7.\n",
      "2024-09-13 01:37:40,315: Qubit 71 criado com fidelidade inicial 0.7178060070793141 e adicionado à memória do Host 7.\n",
      "2024-09-13 01:37:40,315: Qubit 72 adicionado à memória do Host 7.\n",
      "2024-09-13 01:37:40,316: Qubit 72 criado com fidelidade inicial 0.003932109538870687 e adicionado à memória do Host 7.\n",
      "2024-09-13 01:37:40,316: Qubit 73 adicionado à memória do Host 7.\n",
      "2024-09-13 01:37:40,316: Qubit 73 criado com fidelidade inicial 0.4653875929864345 e adicionado à memória do Host 7.\n",
      "2024-09-13 01:37:40,316: Qubit 74 adicionado à memória do Host 7.\n",
      "2024-09-13 01:37:40,317: Qubit 74 criado com fidelidade inicial 0.9233038769502686 e adicionado à memória do Host 7.\n",
      "2024-09-13 01:37:40,317: Qubit 75 adicionado à memória do Host 7.\n",
      "2024-09-13 01:37:40,317: Qubit 75 criado com fidelidade inicial 0.6161844552161281 e adicionado à memória do Host 7.\n",
      "2024-09-13 01:37:40,319: Qubit 76 adicionado à memória do Host 7.\n",
      "2024-09-13 01:37:40,319: Qubit 76 criado com fidelidade inicial 0.4400866161442013 e adicionado à memória do Host 7.\n",
      "2024-09-13 01:37:40,319: Qubit 77 adicionado à memória do Host 7.\n",
      "2024-09-13 01:37:40,319: Qubit 77 criado com fidelidade inicial 0.9193159845414792 e adicionado à memória do Host 7.\n",
      "2024-09-13 01:37:40,319: Qubit 78 adicionado à memória do Host 7.\n",
      "2024-09-13 01:37:40,320: Qubit 78 criado com fidelidade inicial 0.728776250370911 e adicionado à memória do Host 7.\n",
      "2024-09-13 01:37:40,320: Qubit 79 adicionado à memória do Host 7.\n",
      "2024-09-13 01:37:40,320: Qubit 79 criado com fidelidade inicial 0.829240874255244 e adicionado à memória do Host 7.\n",
      "2024-09-13 01:37:40,321: Qubit 80 adicionado à memória do Host 8.\n",
      "2024-09-13 01:37:40,321: Qubit 80 criado com fidelidade inicial 0.3547634074927267 e adicionado à memória do Host 8.\n",
      "2024-09-13 01:37:40,321: Qubit 81 adicionado à memória do Host 8.\n",
      "2024-09-13 01:37:40,321: Qubit 81 criado com fidelidade inicial 0.9921017074241321 e adicionado à memória do Host 8.\n",
      "2024-09-13 01:37:40,321: Qubit 82 adicionado à memória do Host 8.\n",
      "2024-09-13 01:37:40,323: Qubit 82 criado com fidelidade inicial 0.6812817133390675 e adicionado à memória do Host 8.\n",
      "2024-09-13 01:37:40,323: Qubit 83 adicionado à memória do Host 8.\n",
      "2024-09-13 01:37:40,323: Qubit 83 criado com fidelidade inicial 0.8288724416200941 e adicionado à memória do Host 8.\n",
      "2024-09-13 01:37:40,323: Qubit 84 adicionado à memória do Host 8.\n",
      "2024-09-13 01:37:40,324: Qubit 84 criado com fidelidade inicial 0.06215489554275544 e adicionado à memória do Host 8.\n",
      "2024-09-13 01:37:40,324: Qubit 85 adicionado à memória do Host 8.\n",
      "2024-09-13 01:37:40,324: Qubit 85 criado com fidelidade inicial 0.5682401749132887 e adicionado à memória do Host 8.\n",
      "2024-09-13 01:37:40,325: Qubit 86 adicionado à memória do Host 8.\n",
      "2024-09-13 01:37:40,325: Qubit 86 criado com fidelidade inicial 0.5311534936916693 e adicionado à memória do Host 8.\n",
      "2024-09-13 01:37:40,325: Qubit 87 adicionado à memória do Host 8.\n",
      "2024-09-13 01:37:40,325: Qubit 87 criado com fidelidade inicial 0.45896850523117083 e adicionado à memória do Host 8.\n",
      "2024-09-13 01:37:40,326: Qubit 88 adicionado à memória do Host 8.\n",
      "2024-09-13 01:37:40,326: Qubit 88 criado com fidelidade inicial 0.08028642449848988 e adicionado à memória do Host 8.\n",
      "2024-09-13 01:37:40,326: Qubit 89 adicionado à memória do Host 8.\n",
      "2024-09-13 01:37:40,326: Qubit 89 criado com fidelidade inicial 0.7060984322960671 e adicionado à memória do Host 8.\n",
      "2024-09-13 01:37:40,327: Par EPR <quantumnet.objects.epr.Epr object at 0x0000020075F6A210> adicionado ao canal.\n",
      "2024-09-13 01:37:40,327: Par EPR <quantumnet.objects.epr.Epr object at 0x0000020075F69880> adicionado ao canal.\n",
      "2024-09-13 01:37:40,328: Par EPR <quantumnet.objects.epr.Epr object at 0x0000020075F6BD40> adicionado ao canal.\n",
      "2024-09-13 01:37:40,328: Par EPR <quantumnet.objects.epr.Epr object at 0x0000020075F6A990> adicionado ao canal.\n",
      "2024-09-13 01:37:40,328: Par EPR <quantumnet.objects.epr.Epr object at 0x0000020075F68CE0> adicionado ao canal.\n",
      "2024-09-13 01:37:40,328: Par EPR <quantumnet.objects.epr.Epr object at 0x0000020075E4FDA0> adicionado ao canal.\n",
      "2024-09-13 01:37:40,329: Par EPR <quantumnet.objects.epr.Epr object at 0x0000020075F69460> adicionado ao canal.\n",
      "2024-09-13 01:37:40,329: Par EPR <quantumnet.objects.epr.Epr object at 0x0000020075F3FE30> adicionado ao canal.\n",
      "2024-09-13 01:37:40,329: Par EPR <quantumnet.objects.epr.Epr object at 0x00000200759C75F0> adicionado ao canal.\n",
      "2024-09-13 01:37:40,329: Par EPR <quantumnet.objects.epr.Epr object at 0x0000020075F7F5C0> adicionado ao canal.\n",
      "2024-09-13 01:37:40,329: Par EPR <quantumnet.objects.epr.Epr object at 0x0000020075F69FA0> adicionado ao canal.\n",
      "2024-09-13 01:37:40,329: Par EPR <quantumnet.objects.epr.Epr object at 0x0000020075F7FEF0> adicionado ao canal.\n",
      "2024-09-13 01:37:40,331: Par EPR <quantumnet.objects.epr.Epr object at 0x0000020075F7FE90> adicionado ao canal.\n",
      "2024-09-13 01:37:40,331: Par EPR <quantumnet.objects.epr.Epr object at 0x0000020075CE9BE0> adicionado ao canal.\n",
      "2024-09-13 01:37:40,332: Par EPR <quantumnet.objects.epr.Epr object at 0x0000020075A0FE60> adicionado ao canal.\n",
      "2024-09-13 01:37:40,332: Par EPR <quantumnet.objects.epr.Epr object at 0x0000020075F7E900> adicionado ao canal.\n",
      "2024-09-13 01:37:40,332: Par EPR <quantumnet.objects.epr.Epr object at 0x0000020075F7EF30> adicionado ao canal.\n",
      "2024-09-13 01:37:40,333: Par EPR <quantumnet.objects.epr.Epr object at 0x0000020075F7EB70> adicionado ao canal.\n",
      "2024-09-13 01:37:40,333: Par EPR <quantumnet.objects.epr.Epr object at 0x0000020075DAC3E0> adicionado ao canal.\n",
      "2024-09-13 01:37:40,334: Par EPR <quantumnet.objects.epr.Epr object at 0x0000020075F7C2C0> adicionado ao canal.\n",
      "2024-09-13 01:37:40,334: Par EPR <quantumnet.objects.epr.Epr object at 0x0000020075F7FD70> adicionado ao canal.\n",
      "2024-09-13 01:37:40,334: Par EPR <quantumnet.objects.epr.Epr object at 0x0000020075F7C530> adicionado ao canal.\n",
      "2024-09-13 01:37:40,335: Par EPR <quantumnet.objects.epr.Epr object at 0x0000020075F7C620> adicionado ao canal.\n",
      "2024-09-13 01:37:40,337: Par EPR <quantumnet.objects.epr.Epr object at 0x0000020075F7C350> adicionado ao canal.\n",
      "2024-09-13 01:37:40,340: Par EPR <quantumnet.objects.epr.Epr object at 0x0000020075F7C2F0> adicionado ao canal.\n",
      "2024-09-13 01:37:40,340: Par EPR <quantumnet.objects.epr.Epr object at 0x0000020075F7C680> adicionado ao canal.\n",
      "2024-09-13 01:37:40,340: Par EPR <quantumnet.objects.epr.Epr object at 0x0000020075F7C560> adicionado ao canal.\n",
      "2024-09-13 01:37:40,342: Par EPR <quantumnet.objects.epr.Epr object at 0x0000020075F7C8C0> adicionado ao canal.\n",
      "2024-09-13 01:37:40,342: Par EPR <quantumnet.objects.epr.Epr object at 0x0000020075F7C470> adicionado ao canal.\n",
      "2024-09-13 01:37:40,343: Par EPR <quantumnet.objects.epr.Epr object at 0x0000020075F6B4A0> adicionado ao canal.\n",
      "2024-09-13 01:37:40,343: Par EPR <quantumnet.objects.epr.Epr object at 0x0000020075F7C890> adicionado ao canal.\n",
      "2024-09-13 01:37:40,343: Par EPR <quantumnet.objects.epr.Epr object at 0x0000020075F6B260> adicionado ao canal.\n",
      "2024-09-13 01:37:40,344: Par EPR <quantumnet.objects.epr.Epr object at 0x0000020075F7C7D0> adicionado ao canal.\n",
      "2024-09-13 01:37:40,344: Par EPR <quantumnet.objects.epr.Epr object at 0x0000020075F7CC20> adicionado ao canal.\n",
      "2024-09-13 01:37:40,344: Par EPR <quantumnet.objects.epr.Epr object at 0x0000020075FACBC0> adicionado ao canal.\n",
      "2024-09-13 01:37:40,345: Par EPR <quantumnet.objects.epr.Epr object at 0x0000020075F7CAA0> adicionado ao canal.\n",
      "2024-09-13 01:37:40,345: Par EPR <quantumnet.objects.epr.Epr object at 0x0000020075FACD70> adicionado ao canal.\n",
      "2024-09-13 01:37:40,345: Par EPR <quantumnet.objects.epr.Epr object at 0x0000020075F7CE60> adicionado ao canal.\n",
      "2024-09-13 01:37:40,346: Par EPR <quantumnet.objects.epr.Epr object at 0x0000020075CA4E00> adicionado ao canal.\n",
      "2024-09-13 01:37:40,346: Par EPR <quantumnet.objects.epr.Epr object at 0x0000020075FACF20> adicionado ao canal.\n",
      "2024-09-13 01:37:40,346: Par EPR <quantumnet.objects.epr.Epr object at 0x0000020075FACF80> adicionado ao canal.\n",
      "2024-09-13 01:37:40,346: Par EPR <quantumnet.objects.epr.Epr object at 0x0000020075F7CDD0> adicionado ao canal.\n",
      "2024-09-13 01:37:40,346: Par EPR <quantumnet.objects.epr.Epr object at 0x0000020075FAD040> adicionado ao canal.\n",
      "2024-09-13 01:37:40,347: Par EPR <quantumnet.objects.epr.Epr object at 0x0000020075FAD340> adicionado ao canal.\n",
      "2024-09-13 01:37:40,347: Par EPR <quantumnet.objects.epr.Epr object at 0x0000020075F7D400> adicionado ao canal.\n",
      "2024-09-13 01:37:40,347: Par EPR <quantumnet.objects.epr.Epr object at 0x0000020075FAD3A0> adicionado ao canal.\n",
      "2024-09-13 01:37:40,348: Par EPR <quantumnet.objects.epr.Epr object at 0x0000020075F7D550> adicionado ao canal.\n",
      "2024-09-13 01:37:40,348: Par EPR <quantumnet.objects.epr.Epr object at 0x0000020075DDD490> adicionado ao canal.\n",
      "2024-09-13 01:37:40,348: Par EPR <quantumnet.objects.epr.Epr object at 0x0000020075F7D610> adicionado ao canal.\n",
      "2024-09-13 01:37:40,348: Par EPR <quantumnet.objects.epr.Epr object at 0x0000020075F7D8E0> adicionado ao canal.\n",
      "2024-09-13 01:37:40,349: Par EPR <quantumnet.objects.epr.Epr object at 0x0000020075F7D7F0> adicionado ao canal.\n",
      "2024-09-13 01:37:40,349: Par EPR <quantumnet.objects.epr.Epr object at 0x0000020075F7DA60> adicionado ao canal.\n",
      "2024-09-13 01:37:40,350: Par EPR <quantumnet.objects.epr.Epr object at 0x0000020075E4D220> adicionado ao canal.\n",
      "2024-09-13 01:37:40,350: Par EPR <quantumnet.objects.epr.Epr object at 0x0000020075F7D790> adicionado ao canal.\n",
      "2024-09-13 01:37:40,350: Par EPR <quantumnet.objects.epr.Epr object at 0x0000020075FAD7C0> adicionado ao canal.\n",
      "2024-09-13 01:37:40,350: Par EPR <quantumnet.objects.epr.Epr object at 0x0000020075F7DCD0> adicionado ao canal.\n",
      "2024-09-13 01:37:40,352: Par EPR <quantumnet.objects.epr.Epr object at 0x0000020075F7DC10> adicionado ao canal.\n",
      "2024-09-13 01:37:40,352: Par EPR <quantumnet.objects.epr.Epr object at 0x0000020075F7DD30> adicionado ao canal.\n",
      "2024-09-13 01:37:40,352: Par EPR <quantumnet.objects.epr.Epr object at 0x0000020075F7DEB0> adicionado ao canal.\n",
      "2024-09-13 01:37:40,353: Par EPR <quantumnet.objects.epr.Epr object at 0x0000020075F7D970> adicionado ao canal.\n",
      "2024-09-13 01:37:40,353: Par EPR <quantumnet.objects.epr.Epr object at 0x0000020075F7DF40> adicionado ao canal.\n",
      "2024-09-13 01:37:40,353: Par EPR <quantumnet.objects.epr.Epr object at 0x0000020075DADFD0> adicionado ao canal.\n",
      "2024-09-13 01:37:40,354: Par EPR <quantumnet.objects.epr.Epr object at 0x0000020075F699A0> adicionado ao canal.\n",
      "2024-09-13 01:37:40,354: Par EPR <quantumnet.objects.epr.Epr object at 0x0000020075FAD6A0> adicionado ao canal.\n",
      "2024-09-13 01:37:40,354: Par EPR <quantumnet.objects.epr.Epr object at 0x0000020075F7DDC0> adicionado ao canal.\n",
      "2024-09-13 01:37:40,354: Par EPR <quantumnet.objects.epr.Epr object at 0x0000020075F7E240> adicionado ao canal.\n",
      "2024-09-13 01:37:40,354: Par EPR <quantumnet.objects.epr.Epr object at 0x0000020075F7DA30> adicionado ao canal.\n",
      "2024-09-13 01:37:40,354: Par EPR <quantumnet.objects.epr.Epr object at 0x0000020075F7E1B0> adicionado ao canal.\n",
      "2024-09-13 01:37:40,355: Par EPR <quantumnet.objects.epr.Epr object at 0x0000020075F7E3C0> adicionado ao canal.\n",
      "2024-09-13 01:37:40,355: Par EPR <quantumnet.objects.epr.Epr object at 0x0000020075F7E480> adicionado ao canal.\n",
      "2024-09-13 01:37:40,355: Par EPR <quantumnet.objects.epr.Epr object at 0x0000020075F7E120> adicionado ao canal.\n",
      "2024-09-13 01:37:40,355: Par EPR <quantumnet.objects.epr.Epr object at 0x0000020075FAE360> adicionado ao canal.\n",
      "2024-09-13 01:37:40,356: Par EPR <quantumnet.objects.epr.Epr object at 0x0000020075FAE5A0> adicionado ao canal.\n",
      "2024-09-13 01:37:40,356: Par EPR <quantumnet.objects.epr.Epr object at 0x0000020075E1E270> adicionado ao canal.\n",
      "2024-09-13 01:37:40,357: Par EPR <quantumnet.objects.epr.Epr object at 0x0000020075A766F0> adicionado ao canal.\n",
      "2024-09-13 01:37:40,357: Par EPR <quantumnet.objects.epr.Epr object at 0x0000020075F7E510> adicionado ao canal.\n",
      "2024-09-13 01:37:40,357: Par EPR <quantumnet.objects.epr.Epr object at 0x0000020075F7E8A0> adicionado ao canal.\n",
      "2024-09-13 01:37:40,357: Par EPR <quantumnet.objects.epr.Epr object at 0x0000020075F7E630> adicionado ao canal.\n",
      "2024-09-13 01:37:40,357: Par EPR <quantumnet.objects.epr.Epr object at 0x0000020075F7E780> adicionado ao canal.\n",
      "2024-09-13 01:37:40,358: Par EPR <quantumnet.objects.epr.Epr object at 0x0000020075A56720> adicionado ao canal.\n",
      "2024-09-13 01:37:40,358: Par EPR <quantumnet.objects.epr.Epr object at 0x0000020075FAE870> adicionado ao canal.\n",
      "2024-09-13 01:37:40,358: Par EPR <quantumnet.objects.epr.Epr object at 0x0000020075F7E5D0> adicionado ao canal.\n",
      "2024-09-13 01:37:40,359: Par EPR <quantumnet.objects.epr.Epr object at 0x0000020075F7EA20> adicionado ao canal.\n",
      "2024-09-13 01:37:40,359: Par EPR <quantumnet.objects.epr.Epr object at 0x0000020075F7ECF0> adicionado ao canal.\n",
      "2024-09-13 01:37:40,359: Par EPR <quantumnet.objects.epr.Epr object at 0x0000020075FAEC00> adicionado ao canal.\n",
      "2024-09-13 01:37:40,359: Par EPR <quantumnet.objects.epr.Epr object at 0x0000020075B66BA0> adicionado ao canal.\n",
      "2024-09-13 01:37:40,359: Par EPR <quantumnet.objects.epr.Epr object at 0x0000020075F7EE40> adicionado ao canal.\n",
      "2024-09-13 01:37:40,360: Par EPR <quantumnet.objects.epr.Epr object at 0x0000020075FAED80> adicionado ao canal.\n",
      "2024-09-13 01:37:40,360: Par EPR <quantumnet.objects.epr.Epr object at 0x0000020075FAEC60> adicionado ao canal.\n",
      "2024-09-13 01:37:40,360: Par EPR <quantumnet.objects.epr.Epr object at 0x0000020075F6B860> adicionado ao canal.\n",
      "2024-09-13 01:37:40,360: Par EPR <quantumnet.objects.epr.Epr object at 0x0000020075F7EBD0> adicionado ao canal.\n",
      "2024-09-13 01:37:40,361: Par EPR <quantumnet.objects.epr.Epr object at 0x0000020075F7F140> adicionado ao canal.\n",
      "2024-09-13 01:37:40,361: Par EPR <quantumnet.objects.epr.Epr object at 0x0000020075F7E390> adicionado ao canal.\n",
      "2024-09-13 01:37:40,361: Par EPR <quantumnet.objects.epr.Epr object at 0x0000020075FACDA0> adicionado ao canal.\n",
      "2024-09-13 01:37:40,361: Par EPR <quantumnet.objects.epr.Epr object at 0x0000020075F7F320> adicionado ao canal.\n",
      "2024-09-13 01:37:40,361: Par EPR <quantumnet.objects.epr.Epr object at 0x0000020075F7F050> adicionado ao canal.\n",
      "2024-09-13 01:37:40,363: Par EPR <quantumnet.objects.epr.Epr object at 0x0000020075FAF2C0> adicionado ao canal.\n",
      "2024-09-13 01:37:40,363: Par EPR <quantumnet.objects.epr.Epr object at 0x0000020075F7F200> adicionado ao canal.\n",
      "2024-09-13 01:37:40,363: Par EPR <quantumnet.objects.epr.Epr object at 0x0000020075F7F5F0> adicionado ao canal.\n",
      "2024-09-13 01:37:40,363: Par EPR <quantumnet.objects.epr.Epr object at 0x0000020075F7F500> adicionado ao canal.\n",
      "2024-09-13 01:37:40,363: Par EPR <quantumnet.objects.epr.Epr object at 0x0000020075DDF410> adicionado ao canal.\n",
      "2024-09-13 01:37:40,364: Par EPR <quantumnet.objects.epr.Epr object at 0x0000020075B676E0> adicionado ao canal.\n",
      "2024-09-13 01:37:40,365: Par EPR <quantumnet.objects.epr.Epr object at 0x0000020075FAF6B0> adicionado ao canal.\n",
      "2024-09-13 01:37:40,365: Par EPR <quantumnet.objects.epr.Epr object at 0x0000020075E1FB00> adicionado ao canal.\n",
      "2024-09-13 01:37:40,365: Par EPR <quantumnet.objects.epr.Epr object at 0x0000020075F7F4A0> adicionado ao canal.\n",
      "2024-09-13 01:37:40,365: Par EPR <quantumnet.objects.epr.Epr object at 0x0000020075FAF770> adicionado ao canal.\n",
      "2024-09-13 01:37:40,366: Par EPR <quantumnet.objects.epr.Epr object at 0x0000020075FAFB90> adicionado ao canal.\n",
      "2024-09-13 01:37:40,366: Par EPR <quantumnet.objects.epr.Epr object at 0x0000020075F7DE20> adicionado ao canal.\n",
      "2024-09-13 01:37:40,366: Par EPR <quantumnet.objects.epr.Epr object at 0x0000020075FAFA10> adicionado ao canal.\n",
      "2024-09-13 01:37:40,367: Par EPR <quantumnet.objects.epr.Epr object at 0x0000020075FAFC20> adicionado ao canal.\n",
      "2024-09-13 01:37:40,367: Par EPR <quantumnet.objects.epr.Epr object at 0x0000020075FAFE60> adicionado ao canal.\n",
      "2024-09-13 01:37:40,367: Par EPR <quantumnet.objects.epr.Epr object at 0x0000020075FAFEC0> adicionado ao canal.\n",
      "2024-09-13 01:37:40,367: Par EPR <quantumnet.objects.epr.Epr object at 0x0000020075FAFF80> adicionado ao canal.\n",
      "2024-09-13 01:37:40,368: Par EPR <quantumnet.objects.epr.Epr object at 0x0000020075F68170> adicionado ao canal.\n",
      "2024-09-13 01:37:40,368: Par EPR <quantumnet.objects.epr.Epr object at 0x0000020075FAFCB0> adicionado ao canal.\n",
      "2024-09-13 01:37:40,368: Par EPR <quantumnet.objects.epr.Epr object at 0x0000020075DDF9B0> adicionado ao canal.\n",
      "2024-09-13 01:37:40,368: Par EPR <quantumnet.objects.epr.Epr object at 0x0000020075F7DB20> adicionado ao canal.\n",
      "2024-09-13 01:37:40,369: Par EPR <quantumnet.objects.epr.Epr object at 0x0000020075F7EEA0> adicionado ao canal.\n",
      "2024-09-13 01:37:40,369: Par EPR <quantumnet.objects.epr.Epr object at 0x0000020075A0F980> adicionado ao canal.\n",
      "2024-09-13 01:37:40,369: Par EPR <quantumnet.objects.epr.Epr object at 0x0000020075FC0140> adicionado ao canal.\n"
     ]
    },
    {
     "name": "stdout",
     "output_type": "stream",
     "text": [
      "Hosts inicializados\n",
      "Canais inicializados\n",
      "Pares EPRs adicionados\n"
     ]
    },
    {
     "data": {
      "image/png": "[encoded data removed]",
      "text/plain": [
       "<Figure size 640x480 with 1 Axes>"
      ]
     },
     "metadata": {},
     "output_type": "display_data"
    }
   ],
   "source": [
    "rede = Network()\n",
    "rede.set_ready_topology(\"Grade\", 3,3)\n",
    "rede.draw()"
   ]
  },
  {
   "cell_type": "markdown",
   "metadata": {},
   "source": [
    "##### Selecionando aleatoriamente uma aresta do grafo da rede e deseguinando quem será Alice e Bob."
   ]
  },
  {
   "cell_type": "code",
   "execution_count": 3,
   "metadata": {},
   "outputs": [],
   "source": [
    "arestas = list(rede.edges)\n",
    "aresta_aleatorias = random.sample(arestas, 1)[0]\n",
    "x,y = aresta_aleatorias\n",
    "\n",
    "alice = rede.get_host(x)\n",
    "bob = rede.get_host(y)"
   ]
  },
  {
   "cell_type": "markdown",
   "metadata": {},
   "source": [
    "##### Adicionando qubits aos hosts."
   ]
  },
  {
   "cell_type": "code",
   "execution_count": 4,
   "metadata": {},
   "outputs": [
    {
     "name": "stderr",
     "output_type": "stream",
     "text": [
      "2024-09-13 01:37:40,918: Qubit 1 adicionado à memória do Host 6.\n",
      "2024-09-13 01:37:40,919: Qubit 2 adicionado à memória do Host 7.\n"
     ]
    }
   ],
   "source": [
    "h1 = Qubit(1)\n",
    "h2 = Qubit(2)\n",
    "\n",
    "alice.add_qubit(h1)\n",
    "bob.add_qubit(h2)"
   ]
  },
  {
   "cell_type": "markdown",
   "metadata": {},
   "source": [
    "##### Acessando a memória dos Hosts."
   ]
  },
  {
   "cell_type": "code",
   "execution_count": 5,
   "metadata": {},
   "outputs": [
    {
     "name": "stdout",
     "output_type": "stream",
     "text": [
      "[<quantumnet.objects.qubit.Qubit object at 0x0000020075F7CBF0>, <quantumnet.objects.qubit.Qubit object at 0x0000020075A74F50>, <quantumnet.objects.qubit.Qubit object at 0x0000020075A55460>, <quantumnet.objects.qubit.Qubit object at 0x0000020075D7D1F0>, <quantumnet.objects.qubit.Qubit object at 0x0000020075C5C9E0>, <quantumnet.objects.qubit.Qubit object at 0x0000020075F6A720>, <quantumnet.objects.qubit.Qubit object at 0x0000020075F7CA40>, <quantumnet.objects.qubit.Qubit object at 0x0000020075F7D520>, <quantumnet.objects.qubit.Qubit object at 0x0000020075CA5580>, <quantumnet.objects.qubit.Qubit object at 0x0000020075E1D8E0>, <quantumnet.objects.qubit.Qubit object at 0x0000020075DAD400>]\n",
      "[<quantumnet.objects.qubit.Qubit object at 0x0000020075F69CA0>, <quantumnet.objects.qubit.Qubit object at 0x0000020075D7DA60>, <quantumnet.objects.qubit.Qubit object at 0x0000020075D58920>, <quantumnet.objects.qubit.Qubit object at 0x0000020075F7D880>, <quantumnet.objects.qubit.Qubit object at 0x0000020075F693A0>, <quantumnet.objects.qubit.Qubit object at 0x0000020075F7DC40>, <quantumnet.objects.qubit.Qubit object at 0x0000020075F68FE0>, <quantumnet.objects.qubit.Qubit object at 0x0000020075EEDF70>, <quantumnet.objects.qubit.Qubit object at 0x0000020075A76630>, <quantumnet.objects.qubit.Qubit object at 0x0000020075E1E360>, <quantumnet.objects.qubit.Qubit object at 0x000002007F164320>]\n"
     ]
    }
   ],
   "source": [
    "print(alice.memory)\n",
    "print(bob.memory)"
   ]
  },
  {
   "cell_type": "markdown",
   "metadata": {},
   "source": [
    "##### Obtendo o útimo qubit de um dos hosts"
   ]
  },
  {
   "cell_type": "code",
   "execution_count": 6,
   "metadata": {},
   "outputs": [],
   "source": [
    "qub1 = alice.get_last_qubit()"
   ]
  },
  {
   "cell_type": "markdown",
   "metadata": {},
   "source": [
    "##### Medindo a fidelidade entre dois qubits\n"
   ]
  },
  {
   "cell_type": "code",
   "execution_count": 7,
   "metadata": {},
   "outputs": [
    {
     "name": "stderr",
     "output_type": "stream",
     "text": [
      "2024-09-13 01:37:40,939: A fidelidade do qubit Qubit 1 with state 0 é 0.027007853070640575\n",
      "2024-09-13 01:37:40,940: A fidelidade do qubit Qubit 2 with state 0 é 0.9115033864376985\n",
      "2024-09-13 01:37:40,940: A fidelidade entre o qubit 0.027007853070640575 e o qubit 0.9115033864376985 é 0.024617749534300678\n"
     ]
    },
    {
     "data": {
      "text/plain": [
       "0.024617749534300678"
      ]
     },
     "execution_count": 7,
     "metadata": {},
     "output_type": "execute_result"
    }
   ],
   "source": [
    "#Pode medir a fidelidade por meio dessa função\n",
    "rede.physical.fidelity_measurement(h1,h2)"
   ]
  },
  {
   "cell_type": "markdown",
   "metadata": {},
   "source": [
    "##### Medindo a fidelidade de um qubit\n"
   ]
  },
  {
   "cell_type": "code",
   "execution_count": 8,
   "metadata": {},
   "outputs": [
    {
     "name": "stderr",
     "output_type": "stream",
     "text": [
      "2024-09-13 01:37:40,949: A fidelidade do qubit Qubit 1 with state 0 é 0.027007853070640575\n"
     ]
    },
    {
     "data": {
      "text/plain": [
       "0.027007853070640575"
      ]
     },
     "execution_count": 8,
     "metadata": {},
     "output_type": "execute_result"
    }
   ],
   "source": [
    "#Pode se medir a fidelidade e acessar de somente um host\n",
    "rede.physical.fidelity_measurement_only_one(h1)"
   ]
  },
  {
   "cell_type": "markdown",
   "metadata": {},
   "source": [
    "##### Criação do protocolo de entrelaçamento entre dois qubits"
   ]
  },
  {
   "cell_type": "code",
   "execution_count": 9,
   "metadata": {},
   "outputs": [
    {
     "name": "stderr",
     "output_type": "stream",
     "text": [
      "2024-09-13 01:37:40,956: Timeslot 1: Par epr criado com fidelidade 0.5948730631097553\n",
      "2024-09-13 01:37:40,956: Timeslot 2: O protocolo de criação de emaranhamento foi bem sucedido, mas com fidelidade baixa.\n"
     ]
    },
    {
     "data": {
      "text/plain": [
       "False"
      ]
     },
     "execution_count": 9,
     "metadata": {},
     "output_type": "execute_result"
    }
   ],
   "source": [
    "rede.physical.entanglement_creation_heralding_protocol(alice,bob)"
   ]
  },
  {
   "cell_type": "code",
   "execution_count": 10,
   "metadata": {},
   "outputs": [
    {
     "name": "stderr",
     "output_type": "stream",
     "text": [
      "2024-09-13 01:37:40,964: A fidelidade do qubit Qubit 1 with state 0 é 0.02673777453993417\n"
     ]
    },
    {
     "data": {
      "text/plain": [
       "0.02673777453993417"
      ]
     },
     "execution_count": 10,
     "metadata": {},
     "output_type": "execute_result"
    }
   ],
   "source": [
    "#Pode se medir a fidelidade e acessar de somente um host\n",
    "rede.physical.fidelity_measurement_only_one(h1)\n"
   ]
  },
  {
   "cell_type": "markdown",
   "metadata": {},
   "source": [
    "##### Realiza-se o primeiro protocolo, on demand, que através da fidelidade inicial e da probabilidade de sucesso do on demand determina o sucesso do ECHP"
   ]
  },
  {
   "cell_type": "code",
   "execution_count": 11,
   "metadata": {},
   "outputs": [
    {
     "name": "stderr",
     "output_type": "stream",
     "text": [
      "2024-09-13 01:37:40,973: A fidelidade do qubit Qubit 29 with state 0 é 0.210781454031257\n",
      "2024-09-13 01:37:40,973: A fidelidade do qubit Qubit 59 with state 0 é 0.46659949954239494\n",
      "2024-09-13 01:37:40,973: Timeslot 3: A probabilidade de sucesso do ECHP falhou.\n"
     ]
    },
    {
     "data": {
      "text/plain": [
       "False"
      ]
     },
     "execution_count": 11,
     "metadata": {},
     "output_type": "execute_result"
    }
   ],
   "source": [
    "rede.physical.echp_on_demand(2,5)"
   ]
  },
  {
   "cell_type": "markdown",
   "metadata": {},
   "source": [
    "##### Realiza-se, então, o segundo protocolo, on replay, que através da fidelidade inicial e da probabilidade de sucesso do on replay determina o sucesso do ECHP"
   ]
  },
  {
   "cell_type": "code",
   "execution_count": 12,
   "metadata": {},
   "outputs": [
    {
     "name": "stderr",
     "output_type": "stream",
     "text": [
      "2024-09-13 01:37:40,982: A fidelidade do qubit Qubit 28 with state 0 é 0.14395365798220192\n",
      "2024-09-13 01:37:40,983: A fidelidade do qubit Qubit 58 with state 0 é 0.06805394453485841\n",
      "2024-09-13 01:37:40,984: Timeslot 4: A probabilidade de sucesso do ECHP falhou.\n"
     ]
    },
    {
     "data": {
      "text/plain": [
       "False"
      ]
     },
     "execution_count": 12,
     "metadata": {},
     "output_type": "execute_result"
    }
   ],
   "source": [
    "rede.physical.echp_on_replay(2,5)"
   ]
  },
  {
   "cell_type": "code",
   "execution_count": 13,
   "metadata": {},
   "outputs": [
    {
     "name": "stderr",
     "output_type": "stream",
     "text": [
      "2024-09-13 01:37:40,992: Eprs usados na camada PhysicalLayer: 1\n",
      "2024-09-13 01:37:40,992: Eprs usados na camada LinkLayer: 0\n",
      "2024-09-13 01:37:40,993: Eprs usados na camada NetworkLayer: 0\n"
     ]
    },
    {
     "data": {
      "text/plain": [
       "1"
      ]
     },
     "execution_count": 13,
     "metadata": {},
     "output_type": "execute_result"
    }
   ],
   "source": [
    "rede.get_total_useds_eprs()"
   ]
  },
  {
   "cell_type": "code",
   "execution_count": 14,
   "metadata": {},
   "outputs": [
    {
     "name": "stderr",
     "output_type": "stream",
     "text": [
      "2024-09-13 01:37:41,002: Qubits usados na camada PhysicalLayer: 6\n",
      "2024-09-13 01:37:41,002: Qubits usados na camada LinkLayer: 0\n",
      "2024-09-13 01:37:41,003: Qubits usados na camada TransportLayer: 0\n",
      "2024-09-13 01:37:41,003: Qubits usados na camada ApplicationLayer: 0\n"
     ]
    },
    {
     "data": {
      "text/plain": [
       "6"
      ]
     },
     "execution_count": 14,
     "metadata": {},
     "output_type": "execute_result"
    }
   ],
   "source": [
    "rede.get_total_useds_qubits()"
   ]
  },
  {
   "cell_type": "markdown",
   "metadata": {},
   "source": [
    "##### Acessando o canal que mostra as probablidades e os pares eprs\n"
   ]
  },
  {
   "cell_type": "code",
   "execution_count": 15,
   "metadata": {},
   "outputs": [
    {
     "data": {
      "text/plain": [
       "{'prob_on_demand_epr_create': 0.8085820103566412,\n",
       " 'prob_replay_epr_create': 0.9396966915574376,\n",
       " 'eprs': [<quantumnet.objects.epr.Epr at 0x20075facf80>,\n",
       "  <quantumnet.objects.epr.Epr at 0x20075f7cdd0>,\n",
       "  <quantumnet.objects.epr.Epr at 0x20075fad040>,\n",
       "  <quantumnet.objects.epr.Epr at 0x20075fad340>,\n",
       "  <quantumnet.objects.epr.Epr at 0x20075f7d400>,\n",
       "  <quantumnet.objects.epr.Epr at 0x20075fad3a0>,\n",
       "  <quantumnet.objects.epr.Epr at 0x20075f7d550>,\n",
       "  <quantumnet.objects.epr.Epr at 0x20075ddd490>,\n",
       "  <quantumnet.objects.epr.Epr at 0x20075f7d610>,\n",
       "  <quantumnet.objects.epr.Epr at 0x20075f7d8e0>]}"
      ]
     },
     "execution_count": 15,
     "metadata": {},
     "output_type": "execute_result"
    }
   ],
   "source": [
    "rede.edges[2,5]"
   ]
  },
  {
   "cell_type": "markdown",
   "metadata": {},
   "source": [
    "##### Acessando o dicionario que contém os pares eprs alocados\n"
   ]
  },
  {
   "cell_type": "code",
   "execution_count": 16,
   "metadata": {},
   "outputs": [
    {
     "data": {
      "text/plain": [
       "{(0, 3): [<quantumnet.objects.epr.Epr at 0x20075f6a210>,\n",
       "  <quantumnet.objects.epr.Epr at 0x20075f69880>,\n",
       "  <quantumnet.objects.epr.Epr at 0x20075f6bd40>,\n",
       "  <quantumnet.objects.epr.Epr at 0x20075f6a990>,\n",
       "  <quantumnet.objects.epr.Epr at 0x20075f68ce0>,\n",
       "  <quantumnet.objects.epr.Epr at 0x20075e4fda0>,\n",
       "  <quantumnet.objects.epr.Epr at 0x20075f69460>,\n",
       "  <quantumnet.objects.epr.Epr at 0x20075f3fe30>,\n",
       "  <quantumnet.objects.epr.Epr at 0x200759c75f0>,\n",
       "  <quantumnet.objects.epr.Epr at 0x20075f7f5c0>],\n",
       " (0, 1): [<quantumnet.objects.epr.Epr at 0x20075f69fa0>,\n",
       "  <quantumnet.objects.epr.Epr at 0x20075f7fef0>,\n",
       "  <quantumnet.objects.epr.Epr at 0x20075f7fe90>,\n",
       "  <quantumnet.objects.epr.Epr at 0x20075ce9be0>,\n",
       "  <quantumnet.objects.epr.Epr at 0x20075a0fe60>,\n",
       "  <quantumnet.objects.epr.Epr at 0x20075f7e900>,\n",
       "  <quantumnet.objects.epr.Epr at 0x20075f7ef30>,\n",
       "  <quantumnet.objects.epr.Epr at 0x20075f7eb70>,\n",
       "  <quantumnet.objects.epr.Epr at 0x20075dac3e0>,\n",
       "  <quantumnet.objects.epr.Epr at 0x20075f7c2c0>],\n",
       " (1, 4): [<quantumnet.objects.epr.Epr at 0x20075f7fd70>,\n",
       "  <quantumnet.objects.epr.Epr at 0x20075f7c530>,\n",
       "  <quantumnet.objects.epr.Epr at 0x20075f7c620>,\n",
       "  <quantumnet.objects.epr.Epr at 0x20075f7c350>,\n",
       "  <quantumnet.objects.epr.Epr at 0x20075f7c2f0>,\n",
       "  <quantumnet.objects.epr.Epr at 0x20075f7c680>,\n",
       "  <quantumnet.objects.epr.Epr at 0x20075f7c560>,\n",
       "  <quantumnet.objects.epr.Epr at 0x20075f7c8c0>,\n",
       "  <quantumnet.objects.epr.Epr at 0x20075f7c470>,\n",
       "  <quantumnet.objects.epr.Epr at 0x20075f6b4a0>],\n",
       " (1, 2): [<quantumnet.objects.epr.Epr at 0x20075f7c890>,\n",
       "  <quantumnet.objects.epr.Epr at 0x20075f6b260>,\n",
       "  <quantumnet.objects.epr.Epr at 0x20075f7c7d0>,\n",
       "  <quantumnet.objects.epr.Epr at 0x20075f7cc20>,\n",
       "  <quantumnet.objects.epr.Epr at 0x20075facbc0>,\n",
       "  <quantumnet.objects.epr.Epr at 0x20075f7caa0>,\n",
       "  <quantumnet.objects.epr.Epr at 0x20075facd70>,\n",
       "  <quantumnet.objects.epr.Epr at 0x20075f7ce60>,\n",
       "  <quantumnet.objects.epr.Epr at 0x20075ca4e00>,\n",
       "  <quantumnet.objects.epr.Epr at 0x20075facf20>],\n",
       " (2, 5): [<quantumnet.objects.epr.Epr at 0x20075facf80>,\n",
       "  <quantumnet.objects.epr.Epr at 0x20075f7cdd0>,\n",
       "  <quantumnet.objects.epr.Epr at 0x20075fad040>,\n",
       "  <quantumnet.objects.epr.Epr at 0x20075fad340>,\n",
       "  <quantumnet.objects.epr.Epr at 0x20075f7d400>,\n",
       "  <quantumnet.objects.epr.Epr at 0x20075fad3a0>,\n",
       "  <quantumnet.objects.epr.Epr at 0x20075f7d550>,\n",
       "  <quantumnet.objects.epr.Epr at 0x20075ddd490>,\n",
       "  <quantumnet.objects.epr.Epr at 0x20075f7d610>,\n",
       "  <quantumnet.objects.epr.Epr at 0x20075f7d8e0>],\n",
       " (3, 6): [<quantumnet.objects.epr.Epr at 0x20075f7d7f0>,\n",
       "  <quantumnet.objects.epr.Epr at 0x20075f7da60>,\n",
       "  <quantumnet.objects.epr.Epr at 0x20075e4d220>,\n",
       "  <quantumnet.objects.epr.Epr at 0x20075f7d790>,\n",
       "  <quantumnet.objects.epr.Epr at 0x20075fad7c0>,\n",
       "  <quantumnet.objects.epr.Epr at 0x20075f7dcd0>,\n",
       "  <quantumnet.objects.epr.Epr at 0x20075f7dc10>,\n",
       "  <quantumnet.objects.epr.Epr at 0x20075f7dd30>,\n",
       "  <quantumnet.objects.epr.Epr at 0x20075f7deb0>,\n",
       "  <quantumnet.objects.epr.Epr at 0x20075f7d970>],\n",
       " (3, 4): [<quantumnet.objects.epr.Epr at 0x20075f7df40>,\n",
       "  <quantumnet.objects.epr.Epr at 0x20075dadfd0>,\n",
       "  <quantumnet.objects.epr.Epr at 0x20075f699a0>,\n",
       "  <quantumnet.objects.epr.Epr at 0x20075fad6a0>,\n",
       "  <quantumnet.objects.epr.Epr at 0x20075f7ddc0>,\n",
       "  <quantumnet.objects.epr.Epr at 0x20075f7e240>,\n",
       "  <quantumnet.objects.epr.Epr at 0x20075f7da30>,\n",
       "  <quantumnet.objects.epr.Epr at 0x20075f7e1b0>,\n",
       "  <quantumnet.objects.epr.Epr at 0x20075f7e3c0>,\n",
       "  <quantumnet.objects.epr.Epr at 0x20075f7e480>],\n",
       " (4, 7): [<quantumnet.objects.epr.Epr at 0x20075f7e120>,\n",
       "  <quantumnet.objects.epr.Epr at 0x20075fae360>,\n",
       "  <quantumnet.objects.epr.Epr at 0x20075fae5a0>,\n",
       "  <quantumnet.objects.epr.Epr at 0x20075e1e270>,\n",
       "  <quantumnet.objects.epr.Epr at 0x20075a766f0>,\n",
       "  <quantumnet.objects.epr.Epr at 0x20075f7e510>,\n",
       "  <quantumnet.objects.epr.Epr at 0x20075f7e8a0>,\n",
       "  <quantumnet.objects.epr.Epr at 0x20075f7e630>,\n",
       "  <quantumnet.objects.epr.Epr at 0x20075f7e780>,\n",
       "  <quantumnet.objects.epr.Epr at 0x20075a56720>],\n",
       " (4, 5): [<quantumnet.objects.epr.Epr at 0x20075fae870>,\n",
       "  <quantumnet.objects.epr.Epr at 0x20075f7e5d0>,\n",
       "  <quantumnet.objects.epr.Epr at 0x20075f7ea20>,\n",
       "  <quantumnet.objects.epr.Epr at 0x20075f7ecf0>,\n",
       "  <quantumnet.objects.epr.Epr at 0x20075faec00>,\n",
       "  <quantumnet.objects.epr.Epr at 0x20075b66ba0>,\n",
       "  <quantumnet.objects.epr.Epr at 0x20075f7ee40>,\n",
       "  <quantumnet.objects.epr.Epr at 0x20075faed80>,\n",
       "  <quantumnet.objects.epr.Epr at 0x20075faec60>,\n",
       "  <quantumnet.objects.epr.Epr at 0x20075f6b860>],\n",
       " (5, 8): [<quantumnet.objects.epr.Epr at 0x20075f7ebd0>,\n",
       "  <quantumnet.objects.epr.Epr at 0x20075f7f140>,\n",
       "  <quantumnet.objects.epr.Epr at 0x20075f7e390>,\n",
       "  <quantumnet.objects.epr.Epr at 0x20075facda0>,\n",
       "  <quantumnet.objects.epr.Epr at 0x20075f7f320>,\n",
       "  <quantumnet.objects.epr.Epr at 0x20075f7f050>,\n",
       "  <quantumnet.objects.epr.Epr at 0x20075faf2c0>,\n",
       "  <quantumnet.objects.epr.Epr at 0x20075f7f200>,\n",
       "  <quantumnet.objects.epr.Epr at 0x20075f7f5f0>,\n",
       "  <quantumnet.objects.epr.Epr at 0x20075f7f500>],\n",
       " (6, 7): [<quantumnet.objects.epr.Epr at 0x20075ddf410>,\n",
       "  <quantumnet.objects.epr.Epr at 0x20075b676e0>,\n",
       "  <quantumnet.objects.epr.Epr at 0x20075faf6b0>,\n",
       "  <quantumnet.objects.epr.Epr at 0x20075e1fb00>,\n",
       "  <quantumnet.objects.epr.Epr at 0x20075f7f4a0>,\n",
       "  <quantumnet.objects.epr.Epr at 0x20075faf770>,\n",
       "  <quantumnet.objects.epr.Epr at 0x20075fafb90>,\n",
       "  <quantumnet.objects.epr.Epr at 0x20075f7de20>,\n",
       "  <quantumnet.objects.epr.Epr at 0x20075fafa10>,\n",
       "  <quantumnet.objects.epr.Epr at 0x20075fafc20>,\n",
       "  <quantumnet.objects.epr.Epr at 0x20075a0ee70>],\n",
       " (7, 8): [<quantumnet.objects.epr.Epr at 0x20075fafe60>,\n",
       "  <quantumnet.objects.epr.Epr at 0x20075fafec0>,\n",
       "  <quantumnet.objects.epr.Epr at 0x20075faff80>,\n",
       "  <quantumnet.objects.epr.Epr at 0x20075f68170>,\n",
       "  <quantumnet.objects.epr.Epr at 0x20075fafcb0>,\n",
       "  <quantumnet.objects.epr.Epr at 0x20075ddf9b0>,\n",
       "  <quantumnet.objects.epr.Epr at 0x20075f7db20>,\n",
       "  <quantumnet.objects.epr.Epr at 0x20075f7eea0>,\n",
       "  <quantumnet.objects.epr.Epr at 0x20075a0f980>,\n",
       "  <quantumnet.objects.epr.Epr at 0x20075fc0140>]}"
      ]
     },
     "execution_count": 16,
     "metadata": {},
     "output_type": "execute_result"
    }
   ],
   "source": [
    "rede.get_eprs()"
   ]
  },
  {
   "cell_type": "code",
   "execution_count": 17,
   "metadata": {},
   "outputs": [
    {
     "data": {
      "text/plain": [
       "4"
      ]
     },
     "execution_count": 17,
     "metadata": {},
     "output_type": "execute_result"
    }
   ],
   "source": [
    "rede.get_timeslot()"
   ]
  }
 ],
 "metadata": {
  "kernelspec": {
   "display_name": "Python 3",
   "language": "python",
   "name": "python3"
  },
  "language_info": {
   "codemirror_mode": {
    "name": "ipython",
    "version": 3
   },
   "file_extension": ".py",
   "mimetype": "text/x-python",
   "name": "python",
   "nbconvert_exporter": "python",
   "pygments_lexer": "ipython3",
   "version": "3.12.1"
  }
 },
 "nbformat": 4,
 "nbformat_minor": 2
}
